{
 "cells": [
  {
   "cell_type": "markdown",
   "metadata": {},
   "source": [
    "# Oregon soil data compilation \n",
    "This notebook cleans and aggregates SSURGO data for use in Landmapper. The result is a spatial layer containing the soil attributes reported in the application. "
   ]
  },
  {
   "cell_type": "code",
   "execution_count": 2,
   "metadata": {},
   "outputs": [],
   "source": [
    "import pandas as pd\n",
    "import geopandas as gpd\n",
    "#import arcpy"
   ]
  },
  {
   "cell_type": "code",
   "execution_count": 3,
   "metadata": {},
   "outputs": [],
   "source": [
    "SOILS = \"G:/projects/LandMapper_2020/Data/Source/Soils/2023/OR/gSSURGO_OR.gdb\""
   ]
  },
  {
   "cell_type": "code",
   "execution_count": 8,
   "metadata": {},
   "outputs": [],
   "source": [
    "# read in relevant tables\n",
    "# Mapunit Aggregated Attributes\n",
    "muaggatt = gpd.read_file(SOILS, driver='fileGDB', layer='muaggatt')\n",
    "# Component\n",
    "component = gpd.read_file(SOILS, driver='fileGDB', layer='component')\n",
    "# Component Forest Productivity\n",
    "coforprod = gpd.read_file(SOILS, driver='fileGDB', layer='coforprod')\n",
    "# Component Restrictions\n",
    "corestrictions = gpd.read_file(SOILS, driver='fileGDB', layer='corestrictions')"
   ]
  },
  {
   "cell_type": "markdown",
   "metadata": {},
   "source": [
    "The muaggatt table has soil attribute aggregated to the map unit level.  This is convenient, as values from this table can be reported directly. \n",
    "We will pull name, drainage class, erosion hazard, and slope."
   ]
  },
  {
   "cell_type": "code",
   "execution_count": 71,
   "metadata": {},
   "outputs": [
    {
     "data": {
      "text/html": [
       "<div>\n",
       "<style scoped>\n",
       "    .dataframe tbody tr th:only-of-type {\n",
       "        vertical-align: middle;\n",
       "    }\n",
       "\n",
       "    .dataframe tbody tr th {\n",
       "        vertical-align: top;\n",
       "    }\n",
       "\n",
       "    .dataframe thead th {\n",
       "        text-align: right;\n",
       "    }\n",
       "</style>\n",
       "<table border=\"1\" class=\"dataframe\">\n",
       "  <thead>\n",
       "    <tr style=\"text-align: right;\">\n",
       "      <th></th>\n",
       "      <th>mukey</th>\n",
       "      <th>muname</th>\n",
       "      <th>drclassdcd</th>\n",
       "      <th>forpehrtdcp</th>\n",
       "    </tr>\n",
       "  </thead>\n",
       "  <tbody>\n",
       "    <tr>\n",
       "      <th>0</th>\n",
       "      <td>1723640</td>\n",
       "      <td>Quillamook complex, 0 to 7 percent slopes</td>\n",
       "      <td>Well drained</td>\n",
       "      <td>Moderate</td>\n",
       "    </tr>\n",
       "    <tr>\n",
       "      <th>1</th>\n",
       "      <td>1723639</td>\n",
       "      <td>Mosscreek-Fawceter complex, 30 to 60 percent s...</td>\n",
       "      <td>Well drained</td>\n",
       "      <td>Severe</td>\n",
       "    </tr>\n",
       "  </tbody>\n",
       "</table>\n",
       "</div>"
      ],
      "text/plain": [
       "     mukey                                             muname    drclassdcd  \\\n",
       "0  1723640          Quillamook complex, 0 to 7 percent slopes  Well drained   \n",
       "1  1723639  Mosscreek-Fawceter complex, 30 to 60 percent s...  Well drained   \n",
       "\n",
       "  forpehrtdcp  \n",
       "0    Moderate  \n",
       "1      Severe  "
      ]
     },
     "execution_count": 71,
     "metadata": {},
     "output_type": "execute_result"
    }
   ],
   "source": [
    "# let's start with ethe muaggatt table\n",
    "muaggatt_sub = muaggatt[['mukey', 'muname', 'drclassdcd', 'forpehrtdcp']]\n",
    "muaggatt_sub.head(2)"
   ]
  },
  {
   "cell_type": "code",
   "execution_count": 52,
   "metadata": {},
   "outputs": [
    {
     "name": "stdout",
     "output_type": "stream",
     "text": [
      "<class 'pandas.core.frame.DataFrame'>\n",
      "RangeIndex: 9749 entries, 0 to 9748\n",
      "Data columns (total 5 columns):\n",
      " #   Column        Non-Null Count  Dtype  \n",
      "---  ------        --------------  -----  \n",
      " 0   mukey         9749 non-null   object \n",
      " 1   muname        9749 non-null   object \n",
      " 2   drclassdcd    9515 non-null   object \n",
      " 3   forpehrtdcp   9749 non-null   object \n",
      " 4   slopegraddcp  9664 non-null   float64\n",
      "dtypes: float64(1), object(4)\n",
      "memory usage: 380.9+ KB\n"
     ]
    }
   ],
   "source": [
    "muaggatt_sub.info()"
   ]
  },
  {
   "cell_type": "markdown",
   "metadata": {},
   "source": [
    "The component table will just be used in relation to other tables reported at the component level (a subset of map unit)."
   ]
  },
  {
   "cell_type": "code",
   "execution_count": 18,
   "metadata": {},
   "outputs": [
    {
     "name": "stderr",
     "output_type": "stream",
     "text": [
      "C:\\Users\\sloreno\\AppData\\Local\\Temp\\ipykernel_33868\\2825768937.py:4: SettingWithCopyWarning: \n",
      "A value is trying to be set on a copy of a slice from a DataFrame.\n",
      "Try using .loc[row_indexer,col_indexer] = value instead\n",
      "\n",
      "See the caveats in the documentation: https://pandas.pydata.org/pandas-docs/stable/user_guide/indexing.html#returning-a-view-versus-a-copy\n",
      "  component_sub['comppct_p'] = component_sub['comppct_r']/100\n"
     ]
    },
    {
     "data": {
      "text/html": [
       "<div>\n",
       "<style scoped>\n",
       "    .dataframe tbody tr th:only-of-type {\n",
       "        vertical-align: middle;\n",
       "    }\n",
       "\n",
       "    .dataframe tbody tr th {\n",
       "        vertical-align: top;\n",
       "    }\n",
       "\n",
       "    .dataframe thead th {\n",
       "        text-align: right;\n",
       "    }\n",
       "</style>\n",
       "<table border=\"1\" class=\"dataframe\">\n",
       "  <thead>\n",
       "    <tr style=\"text-align: right;\">\n",
       "      <th></th>\n",
       "      <th>mukey</th>\n",
       "      <th>cokey</th>\n",
       "      <th>comppct_r</th>\n",
       "      <th>comppct_p</th>\n",
       "    </tr>\n",
       "  </thead>\n",
       "  <tbody>\n",
       "    <tr>\n",
       "      <th>0</th>\n",
       "      <td>1723640</td>\n",
       "      <td>22389538</td>\n",
       "      <td>25</td>\n",
       "      <td>0.25</td>\n",
       "    </tr>\n",
       "    <tr>\n",
       "      <th>1</th>\n",
       "      <td>1723640</td>\n",
       "      <td>22389539</td>\n",
       "      <td>60</td>\n",
       "      <td>0.60</td>\n",
       "    </tr>\n",
       "    <tr>\n",
       "      <th>2</th>\n",
       "      <td>1723640</td>\n",
       "      <td>22389540</td>\n",
       "      <td>2</td>\n",
       "      <td>0.02</td>\n",
       "    </tr>\n",
       "  </tbody>\n",
       "</table>\n",
       "</div>"
      ],
      "text/plain": [
       "     mukey     cokey  comppct_r  comppct_p\n",
       "0  1723640  22389538         25       0.25\n",
       "1  1723640  22389539         60       0.60\n",
       "2  1723640  22389540          2       0.02"
      ]
     },
     "execution_count": 18,
     "metadata": {},
     "output_type": "execute_result"
    }
   ],
   "source": [
    "# all we need from this table is the mukey - cokey crosswalk\n",
    "# and the component percentage of the map unit\n",
    "component_sub = component[['mukey', 'cokey', 'comppct_r']]\n",
    "component_sub['comppct_p'] = component_sub['comppct_r']/100\n",
    "component_sub.head(3)"
   ]
  },
  {
   "cell_type": "markdown",
   "metadata": {},
   "source": [
    "The Component Forest Productivity table contains the site index information."
   ]
  },
  {
   "cell_type": "code",
   "execution_count": 23,
   "metadata": {},
   "outputs": [
    {
     "name": "stdout",
     "output_type": "stream",
     "text": [
      "<class 'geopandas.geodataframe.GeoDataFrame'>\n",
      "Index: 7827 entries, 4 to 23621\n",
      "Data columns (total 13 columns):\n",
      " #   Column         Non-Null Count  Dtype   \n",
      "---  ------         --------------  -----   \n",
      " 0   plantsym       7827 non-null   object  \n",
      " 1   plantsciname   7827 non-null   object  \n",
      " 2   plantcomname   7827 non-null   object  \n",
      " 3   siteindexbase  7675 non-null   object  \n",
      " 4   siteindex_l    2 non-null      float64 \n",
      " 5   siteindex_r    7827 non-null   float64 \n",
      " 6   siteindex_h    2 non-null      float64 \n",
      " 7   fprod_l        2 non-null      float64 \n",
      " 8   fprod_r        7086 non-null   float64 \n",
      " 9   fprod_h        3 non-null      float64 \n",
      " 10  cokey          7827 non-null   object  \n",
      " 11  cofprodkey     7827 non-null   object  \n",
      " 12  geometry       0 non-null      geometry\n",
      "dtypes: float64(6), geometry(1), object(6)\n",
      "memory usage: 856.1+ KB\n"
     ]
    }
   ],
   "source": [
    "#first remove all null values from table\n",
    "coforprod_drop = coforprod[coforprod['siteindex_r'].notna()]\n",
    "coforprod_drop.info()"
   ]
  },
  {
   "cell_type": "code",
   "execution_count": 87,
   "metadata": {},
   "outputs": [],
   "source": [
    "# join with component table to see if there are multiple values per map unit\n",
    "coforprod_key = coforprod_drop.merge(component_sub, on='cokey', how='left')\n",
    "coforprod_key = coforprod_key.astype({'siteindex_r':'int'})\n",
    "# if multiple values, grab first one\n",
    "si_key = coforprod_key.groupby('mukey').first().reset_index()"
   ]
  },
  {
   "cell_type": "code",
   "execution_count": 88,
   "metadata": {},
   "outputs": [],
   "source": [
    "si_key['si_label'] = (si_key.apply(lambda x: \"{} - {} ft\".format(x.plantcomname, x.siteindex_r), axis=1))\n",
    "si_key = si_key[['mukey', 'si_label']]"
   ]
  },
  {
   "cell_type": "markdown",
   "metadata": {},
   "source": [
    "The Component Restrictions table for depth to restrictive layer information"
   ]
  },
  {
   "cell_type": "code",
   "execution_count": 70,
   "metadata": {},
   "outputs": [
    {
     "data": {
      "text/html": [
       "<div>\n",
       "<style scoped>\n",
       "    .dataframe tbody tr th:only-of-type {\n",
       "        vertical-align: middle;\n",
       "    }\n",
       "\n",
       "    .dataframe tbody tr th {\n",
       "        vertical-align: top;\n",
       "    }\n",
       "\n",
       "    .dataframe thead th {\n",
       "        text-align: right;\n",
       "    }\n",
       "</style>\n",
       "<table border=\"1\" class=\"dataframe\">\n",
       "  <thead>\n",
       "    <tr style=\"text-align: right;\">\n",
       "      <th></th>\n",
       "      <th>cokey</th>\n",
       "      <th>resdept_l</th>\n",
       "      <th>resdept_h</th>\n",
       "      <th>resdept_r</th>\n",
       "    </tr>\n",
       "  </thead>\n",
       "  <tbody>\n",
       "    <tr>\n",
       "      <th>0</th>\n",
       "      <td>22389521</td>\n",
       "      <td>51.0</td>\n",
       "      <td>102.0</td>\n",
       "      <td>94</td>\n",
       "    </tr>\n",
       "    <tr>\n",
       "      <th>1</th>\n",
       "      <td>22389522</td>\n",
       "      <td>30.0</td>\n",
       "      <td>51.0</td>\n",
       "      <td>48</td>\n",
       "    </tr>\n",
       "  </tbody>\n",
       "</table>\n",
       "</div>"
      ],
      "text/plain": [
       "      cokey  resdept_l  resdept_h  resdept_r\n",
       "0  22389521       51.0      102.0         94\n",
       "1  22389522       30.0       51.0         48"
      ]
     },
     "execution_count": 70,
     "metadata": {},
     "output_type": "execute_result"
    }
   ],
   "source": [
    "# in this table we need the cokey, \n",
    "# resdept_l - min depth to restrictive layer\n",
    "# resdept_h - max depth to restrictive layer\n",
    "corest_sub = corestrictions[['cokey','resdept_l', 'resdept_h', 'resdept_r']]\n",
    "corest_sub.head(2)"
   ]
  },
  {
   "cell_type": "code",
   "execution_count": 51,
   "metadata": {},
   "outputs": [
    {
     "name": "stdout",
     "output_type": "stream",
     "text": [
      "<class 'pandas.core.frame.DataFrame'>\n",
      "RangeIndex: 28555 entries, 0 to 28554\n",
      "Data columns (total 6 columns):\n",
      " #   Column     Non-Null Count  Dtype  \n",
      "---  ------     --------------  -----  \n",
      " 0   mukey      28555 non-null  object \n",
      " 1   cokey      28555 non-null  object \n",
      " 2   comppct_r  28555 non-null  int64  \n",
      " 3   comppct_p  28555 non-null  float64\n",
      " 4   resdept_l  17148 non-null  float64\n",
      " 5   resdept_h  17123 non-null  float64\n",
      "dtypes: float64(3), int64(1), object(2)\n",
      "memory usage: 1.3+ MB\n"
     ]
    }
   ],
   "source": [
    "# merge the corest_sub and component\n",
    "res = component_sub.merge(corest_sub, on='cokey', how='left')\n",
    "res.info()"
   ]
  },
  {
   "cell_type": "code",
   "execution_count": 86,
   "metadata": {},
   "outputs": [
    {
     "data": {
      "text/html": [
       "<div>\n",
       "<style scoped>\n",
       "    .dataframe tbody tr th:only-of-type {\n",
       "        vertical-align: middle;\n",
       "    }\n",
       "\n",
       "    .dataframe tbody tr th {\n",
       "        vertical-align: top;\n",
       "    }\n",
       "\n",
       "    .dataframe thead th {\n",
       "        text-align: right;\n",
       "    }\n",
       "</style>\n",
       "<table border=\"1\" class=\"dataframe\">\n",
       "  <thead>\n",
       "    <tr style=\"text-align: right;\">\n",
       "      <th></th>\n",
       "      <th>mukey</th>\n",
       "      <th>cokey</th>\n",
       "      <th>comppct_r</th>\n",
       "      <th>comppct_p</th>\n",
       "      <th>resdept_l</th>\n",
       "      <th>resdept_h</th>\n",
       "      <th>l_per</th>\n",
       "      <th>h_per</th>\n",
       "    </tr>\n",
       "  </thead>\n",
       "  <tbody>\n",
       "    <tr>\n",
       "      <th>0</th>\n",
       "      <td>1723640</td>\n",
       "      <td>22389538</td>\n",
       "      <td>25</td>\n",
       "      <td>0.25</td>\n",
       "      <td>NaN</td>\n",
       "      <td>NaN</td>\n",
       "      <td>NaN</td>\n",
       "      <td>NaN</td>\n",
       "    </tr>\n",
       "    <tr>\n",
       "      <th>1</th>\n",
       "      <td>1723640</td>\n",
       "      <td>22389539</td>\n",
       "      <td>60</td>\n",
       "      <td>0.60</td>\n",
       "      <td>102.0</td>\n",
       "      <td>152.0</td>\n",
       "      <td>61.0</td>\n",
       "      <td>91.0</td>\n",
       "    </tr>\n",
       "    <tr>\n",
       "      <th>2</th>\n",
       "      <td>1723640</td>\n",
       "      <td>22389540</td>\n",
       "      <td>2</td>\n",
       "      <td>0.02</td>\n",
       "      <td>NaN</td>\n",
       "      <td>NaN</td>\n",
       "      <td>NaN</td>\n",
       "      <td>NaN</td>\n",
       "    </tr>\n",
       "    <tr>\n",
       "      <th>3</th>\n",
       "      <td>60935</td>\n",
       "      <td>22389548</td>\n",
       "      <td>45</td>\n",
       "      <td>0.45</td>\n",
       "      <td>51.0</td>\n",
       "      <td>102.0</td>\n",
       "      <td>23.0</td>\n",
       "      <td>46.0</td>\n",
       "    </tr>\n",
       "    <tr>\n",
       "      <th>4</th>\n",
       "      <td>60935</td>\n",
       "      <td>22389549</td>\n",
       "      <td>35</td>\n",
       "      <td>0.35</td>\n",
       "      <td>102.0</td>\n",
       "      <td>152.0</td>\n",
       "      <td>36.0</td>\n",
       "      <td>53.0</td>\n",
       "    </tr>\n",
       "    <tr>\n",
       "      <th>5</th>\n",
       "      <td>60934</td>\n",
       "      <td>22389566</td>\n",
       "      <td>45</td>\n",
       "      <td>0.45</td>\n",
       "      <td>51.0</td>\n",
       "      <td>102.0</td>\n",
       "      <td>23.0</td>\n",
       "      <td>46.0</td>\n",
       "    </tr>\n",
       "    <tr>\n",
       "      <th>6</th>\n",
       "      <td>60934</td>\n",
       "      <td>22389567</td>\n",
       "      <td>35</td>\n",
       "      <td>0.35</td>\n",
       "      <td>102.0</td>\n",
       "      <td>152.0</td>\n",
       "      <td>36.0</td>\n",
       "      <td>53.0</td>\n",
       "    </tr>\n",
       "    <tr>\n",
       "      <th>7</th>\n",
       "      <td>60933</td>\n",
       "      <td>22389693</td>\n",
       "      <td>8</td>\n",
       "      <td>0.08</td>\n",
       "      <td>NaN</td>\n",
       "      <td>NaN</td>\n",
       "      <td>NaN</td>\n",
       "      <td>NaN</td>\n",
       "    </tr>\n",
       "    <tr>\n",
       "      <th>8</th>\n",
       "      <td>60933</td>\n",
       "      <td>22389694</td>\n",
       "      <td>50</td>\n",
       "      <td>0.50</td>\n",
       "      <td>NaN</td>\n",
       "      <td>NaN</td>\n",
       "      <td>NaN</td>\n",
       "      <td>NaN</td>\n",
       "    </tr>\n",
       "    <tr>\n",
       "      <th>9</th>\n",
       "      <td>60933</td>\n",
       "      <td>22389695</td>\n",
       "      <td>35</td>\n",
       "      <td>0.35</td>\n",
       "      <td>NaN</td>\n",
       "      <td>NaN</td>\n",
       "      <td>NaN</td>\n",
       "      <td>NaN</td>\n",
       "    </tr>\n",
       "  </tbody>\n",
       "</table>\n",
       "</div>"
      ],
      "text/plain": [
       "     mukey     cokey  comppct_r  comppct_p  resdept_l  resdept_h  l_per  h_per\n",
       "0  1723640  22389538         25       0.25        NaN        NaN    NaN    NaN\n",
       "1  1723640  22389539         60       0.60      102.0      152.0   61.0   91.0\n",
       "2  1723640  22389540          2       0.02        NaN        NaN    NaN    NaN\n",
       "3    60935  22389548         45       0.45       51.0      102.0   23.0   46.0\n",
       "4    60935  22389549         35       0.35      102.0      152.0   36.0   53.0\n",
       "5    60934  22389566         45       0.45       51.0      102.0   23.0   46.0\n",
       "6    60934  22389567         35       0.35      102.0      152.0   36.0   53.0\n",
       "7    60933  22389693          8       0.08        NaN        NaN    NaN    NaN\n",
       "8    60933  22389694         50       0.50        NaN        NaN    NaN    NaN\n",
       "9    60933  22389695         35       0.35        NaN        NaN    NaN    NaN"
      ]
     },
     "execution_count": 86,
     "metadata": {},
     "output_type": "execute_result"
    }
   ],
   "source": [
    "# let's calcuate the percentage weighted values and sum by mukey\n",
    "res['l_per'] = res['resdept_l']*res['comppct_p']\n",
    "res['h_per'] = res['resdept_h']*res['comppct_p']\n",
    "\n",
    "res.head(10)"
   ]
  },
  {
   "cell_type": "code",
   "execution_count": 69,
   "metadata": {},
   "outputs": [
    {
     "data": {
      "text/html": [
       "<div>\n",
       "<style scoped>\n",
       "    .dataframe tbody tr th:only-of-type {\n",
       "        vertical-align: middle;\n",
       "    }\n",
       "\n",
       "    .dataframe tbody tr th {\n",
       "        vertical-align: top;\n",
       "    }\n",
       "\n",
       "    .dataframe thead th {\n",
       "        text-align: right;\n",
       "    }\n",
       "</style>\n",
       "<table border=\"1\" class=\"dataframe\">\n",
       "  <thead>\n",
       "    <tr style=\"text-align: right;\">\n",
       "      <th></th>\n",
       "      <th>mukey</th>\n",
       "      <th>l_per</th>\n",
       "      <th>h_per</th>\n",
       "    </tr>\n",
       "  </thead>\n",
       "  <tbody>\n",
       "    <tr>\n",
       "      <th>729</th>\n",
       "      <td>1723640</td>\n",
       "      <td>61.2</td>\n",
       "      <td>91.2</td>\n",
       "    </tr>\n",
       "  </tbody>\n",
       "</table>\n",
       "</div>"
      ],
      "text/plain": [
       "       mukey  l_per  h_per\n",
       "729  1723640   61.2   91.2"
      ]
     },
     "execution_count": 69,
     "metadata": {},
     "output_type": "execute_result"
    }
   ],
   "source": [
    "res_comp = res.groupby('mukey').agg({'l_per':sum, 'h_per':sum}).reset_index()\n",
    "res_comp.loc[res_comp['mukey']=='1723640']"
   ]
  },
  {
   "cell_type": "markdown",
   "metadata": {},
   "source": [
    "## Let's join our tables together"
   ]
  },
  {
   "cell_type": "code",
   "execution_count": 89,
   "metadata": {},
   "outputs": [
    {
     "data": {
      "text/html": [
       "<div>\n",
       "<style scoped>\n",
       "    .dataframe tbody tr th:only-of-type {\n",
       "        vertical-align: middle;\n",
       "    }\n",
       "\n",
       "    .dataframe tbody tr th {\n",
       "        vertical-align: top;\n",
       "    }\n",
       "\n",
       "    .dataframe thead th {\n",
       "        text-align: right;\n",
       "    }\n",
       "</style>\n",
       "<table border=\"1\" class=\"dataframe\">\n",
       "  <thead>\n",
       "    <tr style=\"text-align: right;\">\n",
       "      <th></th>\n",
       "      <th>mukey</th>\n",
       "      <th>muname</th>\n",
       "      <th>drclassdcd</th>\n",
       "      <th>forpehrtdcp</th>\n",
       "      <th>si_label</th>\n",
       "      <th>avg_rs_l</th>\n",
       "      <th>avg_rs_h</th>\n",
       "    </tr>\n",
       "  </thead>\n",
       "  <tbody>\n",
       "    <tr>\n",
       "      <th>0</th>\n",
       "      <td>1723640</td>\n",
       "      <td>Quillamook complex, 0 to 7 percent slopes</td>\n",
       "      <td>Well drained</td>\n",
       "      <td>Moderate</td>\n",
       "      <td>None</td>\n",
       "      <td>61.20</td>\n",
       "      <td>91.2</td>\n",
       "    </tr>\n",
       "    <tr>\n",
       "      <th>1</th>\n",
       "      <td>1723639</td>\n",
       "      <td>Mosscreek-Fawceter complex, 30 to 60 percent s...</td>\n",
       "      <td>Well drained</td>\n",
       "      <td>Severe</td>\n",
       "      <td>western hemlock - 103 ft</td>\n",
       "      <td>45.90</td>\n",
       "      <td>68.4</td>\n",
       "    </tr>\n",
       "    <tr>\n",
       "      <th>2</th>\n",
       "      <td>1723638</td>\n",
       "      <td>Killam-Fawceter-Rock outcrop complex, 60 to 90...</td>\n",
       "      <td>Well drained</td>\n",
       "      <td>Severe</td>\n",
       "      <td>western hemlock - 100 ft</td>\n",
       "      <td>48.45</td>\n",
       "      <td>81.3</td>\n",
       "    </tr>\n",
       "    <tr>\n",
       "      <th>3</th>\n",
       "      <td>60939</td>\n",
       "      <td>Water</td>\n",
       "      <td>No Data Available</td>\n",
       "      <td>Not rated</td>\n",
       "      <td>None</td>\n",
       "      <td>0.00</td>\n",
       "      <td>0.0</td>\n",
       "    </tr>\n",
       "    <tr>\n",
       "      <th>4</th>\n",
       "      <td>60938</td>\n",
       "      <td>Caterl-Laderly complex, 30 to 60 percent slopes</td>\n",
       "      <td>Well drained</td>\n",
       "      <td>Severe</td>\n",
       "      <td>Douglas-fir - 112 ft</td>\n",
       "      <td>58.65</td>\n",
       "      <td>96.5</td>\n",
       "    </tr>\n",
       "    <tr>\n",
       "      <th>5</th>\n",
       "      <td>60937</td>\n",
       "      <td>Caterl-Laderly complex, 3 to 30 percent slopes</td>\n",
       "      <td>Well drained</td>\n",
       "      <td>Severe</td>\n",
       "      <td>Douglas-fir - 113 ft</td>\n",
       "      <td>63.75</td>\n",
       "      <td>104.1</td>\n",
       "    </tr>\n",
       "    <tr>\n",
       "      <th>6</th>\n",
       "      <td>60936</td>\n",
       "      <td>Brenner silt loam, 0 to 3 percent slopes</td>\n",
       "      <td>Poorly drained</td>\n",
       "      <td>Slight</td>\n",
       "      <td>None</td>\n",
       "      <td>0.00</td>\n",
       "      <td>0.0</td>\n",
       "    </tr>\n",
       "    <tr>\n",
       "      <th>7</th>\n",
       "      <td>60935</td>\n",
       "      <td>Braun-Scaponia silt loams, 60 to 90 percent sl...</td>\n",
       "      <td>Well drained</td>\n",
       "      <td>Severe</td>\n",
       "      <td>Douglas-fir - 125 ft</td>\n",
       "      <td>58.65</td>\n",
       "      <td>99.1</td>\n",
       "    </tr>\n",
       "    <tr>\n",
       "      <th>8</th>\n",
       "      <td>60934</td>\n",
       "      <td>Braun-Scaponia silt loams, 3 to 30 percent slopes</td>\n",
       "      <td>Well drained</td>\n",
       "      <td>Severe</td>\n",
       "      <td>Douglas-fir - 124 ft</td>\n",
       "      <td>58.65</td>\n",
       "      <td>99.1</td>\n",
       "    </tr>\n",
       "    <tr>\n",
       "      <th>9</th>\n",
       "      <td>60933</td>\n",
       "      <td>Wauna-Locoda silt loams, protected, 0 to 3 per...</td>\n",
       "      <td>Poorly drained</td>\n",
       "      <td>Slight</td>\n",
       "      <td>None</td>\n",
       "      <td>0.00</td>\n",
       "      <td>0.0</td>\n",
       "    </tr>\n",
       "  </tbody>\n",
       "</table>\n",
       "</div>"
      ],
      "text/plain": [
       "     mukey                                             muname  \\\n",
       "0  1723640          Quillamook complex, 0 to 7 percent slopes   \n",
       "1  1723639  Mosscreek-Fawceter complex, 30 to 60 percent s...   \n",
       "2  1723638  Killam-Fawceter-Rock outcrop complex, 60 to 90...   \n",
       "3    60939                                              Water   \n",
       "4    60938    Caterl-Laderly complex, 30 to 60 percent slopes   \n",
       "5    60937     Caterl-Laderly complex, 3 to 30 percent slopes   \n",
       "6    60936           Brenner silt loam, 0 to 3 percent slopes   \n",
       "7    60935  Braun-Scaponia silt loams, 60 to 90 percent sl...   \n",
       "8    60934  Braun-Scaponia silt loams, 3 to 30 percent slopes   \n",
       "9    60933  Wauna-Locoda silt loams, protected, 0 to 3 per...   \n",
       "\n",
       "          drclassdcd forpehrtdcp                  si_label  avg_rs_l  avg_rs_h  \n",
       "0       Well drained    Moderate                      None     61.20      91.2  \n",
       "1       Well drained      Severe  western hemlock - 103 ft     45.90      68.4  \n",
       "2       Well drained      Severe  western hemlock - 100 ft     48.45      81.3  \n",
       "3  No Data Available   Not rated                      None      0.00       0.0  \n",
       "4       Well drained      Severe      Douglas-fir - 112 ft     58.65      96.5  \n",
       "5       Well drained      Severe      Douglas-fir - 113 ft     63.75     104.1  \n",
       "6     Poorly drained      Slight                      None      0.00       0.0  \n",
       "7       Well drained      Severe      Douglas-fir - 125 ft     58.65      99.1  \n",
       "8       Well drained      Severe      Douglas-fir - 124 ft     58.65      99.1  \n",
       "9     Poorly drained      Slight                      None      0.00       0.0  "
      ]
     },
     "execution_count": 89,
     "metadata": {},
     "output_type": "execute_result"
    }
   ],
   "source": [
    "join = muaggatt_sub.merge(si_key, on='mukey', how='left')\n",
    "join = join.merge(res_comp, on='mukey', how='left')\n",
    "join['drclassdcd'].fillna(\"No Data Available\", inplace=True)\n",
    "join['si_label'].fillna('None', inplace=True)\n",
    "join.rename(columns={'l_per': 'avg_rs_l', 'h_per': 'avg_rs_h'}, inplace=True)\n",
    "join.head(10)"
   ]
  },
  {
   "cell_type": "markdown",
   "metadata": {},
   "source": [
    "## Bring in the map units shapefile and join with attributes"
   ]
  },
  {
   "cell_type": "code",
   "execution_count": 78,
   "metadata": {},
   "outputs": [
    {
     "name": "stdout",
     "output_type": "stream",
     "text": [
      "<class 'geopandas.geodataframe.GeoDataFrame'>\n",
      "RangeIndex: 387800 entries, 0 to 387799\n",
      "Data columns (total 7 columns):\n",
      " #   Column        Non-Null Count   Dtype   \n",
      "---  ------        --------------   -----   \n",
      " 0   AREASYMBOL    387800 non-null  object  \n",
      " 1   SPATIALVER    387800 non-null  float64 \n",
      " 2   MUSYM         387800 non-null  object  \n",
      " 3   MUKEY         387800 non-null  object  \n",
      " 4   Shape_Length  387800 non-null  float64 \n",
      " 5   Shape_Area    387800 non-null  float64 \n",
      " 6   geometry      387800 non-null  geometry\n",
      "dtypes: float64(3), geometry(1), object(3)\n",
      "memory usage: 20.7+ MB\n"
     ]
    }
   ],
   "source": [
    "oregon = gpd.read_file(SOILS, driver=\"FileGDB\", layer= 'MUPOlYGON')\n",
    "oregon = oregon.to_crs(3857)\n",
    "oregon.info()"
   ]
  },
  {
   "cell_type": "code",
   "execution_count": 90,
   "metadata": {},
   "outputs": [
    {
     "name": "stdout",
     "output_type": "stream",
     "text": [
      "<class 'geopandas.geodataframe.GeoDataFrame'>\n",
      "RangeIndex: 387800 entries, 0 to 387799\n",
      "Data columns (total 14 columns):\n",
      " #   Column        Non-Null Count   Dtype   \n",
      "---  ------        --------------   -----   \n",
      " 0   id            387800 non-null  int64   \n",
      " 1   AREASYMBOL    387800 non-null  object  \n",
      " 2   SPATIALVER    387800 non-null  float64 \n",
      " 3   MUSYM         387800 non-null  object  \n",
      " 4   MUKEY         387800 non-null  object  \n",
      " 5   Shape_Length  387800 non-null  float64 \n",
      " 6   Shape_Area    387800 non-null  float64 \n",
      " 7   geometry      387800 non-null  geometry\n",
      " 8   muname        387800 non-null  object  \n",
      " 9   drclassdcd    387800 non-null  object  \n",
      " 10  forpehrtdcp   387800 non-null  object  \n",
      " 11  si_label      387800 non-null  object  \n",
      " 12  avg_rs_l      387800 non-null  float64 \n",
      " 13  avg_rs_h      387800 non-null  float64 \n",
      "dtypes: float64(5), geometry(1), int64(1), object(7)\n",
      "memory usage: 41.4+ MB\n"
     ]
    }
   ],
   "source": [
    "export = oregon.merge(join, left_on=\"MUKEY\", right_on='mukey', how='left')\n",
    "export.drop('mukey', axis=1, inplace = True)\n",
    "export.insert(0, 'id', range(0, 0 + len(export)))\n",
    "export.info()"
   ]
  },
  {
   "cell_type": "code",
   "execution_count": 91,
   "metadata": {},
   "outputs": [
    {
     "name": "stderr",
     "output_type": "stream",
     "text": [
      "C:\\Users\\sloreno\\AppData\\Local\\Temp\\ipykernel_33868\\556916863.py:1: UserWarning: Column names longer than 10 characters will be truncated when saved to ESRI Shapefile.\n",
      "  export.to_file('C:/Users/sloreno/LandMapper/data/Soil_Attributes/OR_soils.shp', driver='ESRI Shapefile')\n"
     ]
    }
   ],
   "source": [
    "export.to_file('C:/Users/sloreno/LandMapper/data/Soil_Attributes/OR_soils.shp', driver='ESRI Shapefile')"
   ]
  },
  {
   "cell_type": "code",
   "execution_count": null,
   "metadata": {},
   "outputs": [],
   "source": []
  }
 ],
 "metadata": {
  "kernelspec": {
   "display_name": "geo",
   "language": "python",
   "name": "python3"
  },
  "language_info": {
   "codemirror_mode": {
    "name": "ipython",
    "version": 3
   },
   "file_extension": ".py",
   "mimetype": "text/x-python",
   "name": "python",
   "nbconvert_exporter": "python",
   "pygments_lexer": "ipython3",
   "version": "3.11.0"
  },
  "orig_nbformat": 4
 },
 "nbformat": 4,
 "nbformat_minor": 2
}
