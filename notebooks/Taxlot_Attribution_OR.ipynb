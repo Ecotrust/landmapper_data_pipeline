{
 "cells": [
  {
   "cell_type": "markdown",
   "id": "d3e61fa4",
   "metadata": {},
   "source": [
    "## Assigining attribute values to Oregon tax lot parcels\n",
    "\n",
    "### Summary\n",
    "In this notebook we add descriptive attributes to Oregon tax lot polygons for use in Landmapper. These attributes are displayed on the first page of the Landmapper map package. \n",
    "* **ID** - fieldname: *id*, source: create, type: double\n",
    "* **Acres** - fieldname: *acres*, source: create, type: double\n",
    "* **Elevation range** - fieldnames: *min_ft*, *max_ft*, source: , type: double\n",
    "* **Legal Description** - fieldname: *legalDesc*, source: , type:text\n",
    "* **County** - fieldname: *county*, source:parcels, type: text\n",
    "* **Forest Fire District** - fieldname: *odf_fpd*, source:\n",
    "* **Structure Fire District** - fieldname: *agency*, source:\n",
    "* **Land use** - fieldname: *landuse*, source: parcel, type: text\n",
    "* **Watershed Name** - fieldname: *name*, source: USGS WBD\n",
    "* **Watershed (HUC)** - fieldname: *huc12*, source USGS WBD\n",
    "* **Coordinates** - fieldnames: lat, lon\n",
    "* **Elevation Range** - fieldnames: min, max"
   ]
  },
  {
   "cell_type": "markdown",
   "id": "4f4979e5",
   "metadata": {},
   "source": [
    "**Sources**\n",
    "* Parcels - https://ormap.net/ Use 'Fetch Parcel Data from ORMAP' notebook to download tax lots\n",
    "* Zoning - https://www.oregon.gov/lcd/about/pages/maps-data-tools.aspx\n",
    "* Legal Description - https://gis.blm.gov/orarcgis/rest/services/Land_Status/BLM_OR_PLSS/MapServer\n",
    "* Watersheds - https://hydro.nationalmap.gov/arcgis/rest/services/wbd/MapServer\n",
    "* Forest Fire District - https://www.oregon.gov/odf/aboutodf/pages/mapsdata.aspx\n",
    "* Structure Fire District - https://osfm-geo.hub.arcgis.com/datasets/structural-fire-districts/explore"
   ]
  },
  {
   "cell_type": "code",
   "execution_count": 1,
   "id": "c3dd7349",
   "metadata": {},
   "outputs": [],
   "source": [
    "%load_ext autotime\n",
    "import os\n",
    "\n",
    "import pandas as pd\n",
    "import geopandas as gpd\n",
    "import numpy as np\n",
    "import dask_geopandas\n",
    "import dask.dataframe\n",
    "from dask.distributed import Client, LocalCluster\n",
    "from rasterstats import zonal_stats\n",
    "import rasterio "
   ]
  },
  {
   "cell_type": "code",
   "execution_count": 2,
   "id": "2c911f86",
   "metadata": {},
   "outputs": [
    {
     "name": "stdout",
     "output_type": "stream",
     "text": [
      "time: 1.07 ms\n"
     ]
    }
   ],
   "source": [
    "# PROJECT PATHS\n",
    "# also stored on knowsys at Landmapper_2020/Data\n",
    "TAXLOTS = \"../data/merge_taxlots_110823_ele.shp\"\n",
    "ZONING = \"../data/OR_source/Oregon_Zoning_2017/Oregon_Zoning_2017.shp\"\n",
    "WATERSHED = \"../data/OR_source/WBD_OR.gdb\"\n",
    "COUNTY_CODES = \"../data/OR_source/ORCountyCodes.csv\"\n",
    "PLSS = \"../data/OR_source/CadNSDI_PLSS_web.gdb\"\n",
    "PLSS_LAYER = \"PLSSIntersected\"\n",
    "FOREST_FIRE = \"../data/OR_source/Boundaries_Odf_Districts_Forest_Protection.gdb\"\n",
    "FOREST_LAYER = \"Boundaries_Odf_Districts_Forest_Protection\"\n",
    "STRUCTURE_FIRE = \"../data/OR_source/BoundariesStructuralFireProtectionDistricts100K/Boundaries_Structural_Fire_Protection_Districts_100K.gdb\"\n",
    "STRUCTURE_LAYER = \"Boundaries_Structural_Fire_Protection_Districts_100K\""
   ]
  },
  {
   "cell_type": "markdown",
   "id": "d5c692d0",
   "metadata": {},
   "source": [
    "### Load and preprocess tax lots"
   ]
  },
  {
   "cell_type": "markdown",
   "id": "d8a5ae92",
   "metadata": {},
   "source": [
    "Still nee to implement zonal statistics of DEM data to assign MIN & MAX values to each taxlot in this notebook. Currently being done outside of this process - MIN/MAX values are already in TAXLOTS file. "
   ]
  },
  {
   "cell_type": "code",
   "execution_count": 132,
   "id": "a6a89b96",
   "metadata": {},
   "outputs": [
    {
     "name": "stdout",
     "output_type": "stream",
     "text": [
      "time: 6min 35s\n"
     ]
    }
   ],
   "source": [
    "# read in parcels \n",
    "OR = gpd.read_file(TAXLOTS)\n",
    "# grab crs\n",
    "crs = OR.crs"
   ]
  },
  {
   "cell_type": "code",
   "execution_count": 133,
   "id": "1cc6eff5",
   "metadata": {},
   "outputs": [
    {
     "name": "stdout",
     "output_type": "stream",
     "text": [
      "<class 'geopandas.geodataframe.GeoDataFrame'>\n",
      "RangeIndex: 1801839 entries, 0 to 1801838\n",
      "Data columns (total 14 columns):\n",
      " #   Column      Dtype   \n",
      "---  ------      -----   \n",
      " 0   id          int64   \n",
      " 1   OBJECTID    int64   \n",
      " 2   MapNumber   object  \n",
      " 3   ORMapNum    object  \n",
      " 4   Taxlot      object  \n",
      " 5   MapTaxlot   object  \n",
      " 6   ORTaxlot    object  \n",
      " 7   County      int64   \n",
      " 8   RefLink     object  \n",
      " 9   Shape_Leng  float64 \n",
      " 10  Shape_Area  float64 \n",
      " 11  MIN         float64 \n",
      " 12  MAX         float64 \n",
      " 13  geometry    geometry\n",
      "dtypes: float64(4), geometry(1), int64(3), object(6)\n",
      "memory usage: 192.5+ MB\n",
      "time: 94.3 ms\n"
     ]
    }
   ],
   "source": [
    "OR.info()"
   ]
  },
  {
   "cell_type": "code",
   "execution_count": 135,
   "id": "27b0885c",
   "metadata": {},
   "outputs": [
    {
     "name": "stdout",
     "output_type": "stream",
     "text": [
      "time: 449 ms\n"
     ]
    }
   ],
   "source": [
    "#drop unneeded fields\n",
    "OR.drop(['Shape_Leng', 'Shape_Area', 'RefLink', 'MapNumber', 'ORMapNum'], axis=1, inplace=True)"
   ]
  },
  {
   "cell_type": "code",
   "execution_count": 137,
   "id": "930fe670",
   "metadata": {},
   "outputs": [
    {
     "name": "stdout",
     "output_type": "stream",
     "text": [
      "time: 1.49 s\n"
     ]
    }
   ],
   "source": [
    "#read in county matrix - path at top\n",
    "codes = pd.read_csv(COUNTY_CODES)\n",
    "# join based on LANDUSE_CD\n",
    "OR_county = pd.merge(OR, codes, on=\"County\")\n",
    "OR_county.drop('County', axis=1, inplace=True)\n",
    "OR_county.rename(columns={'County_Name': 'county'}, inplace=True)"
   ]
  },
  {
   "cell_type": "markdown",
   "id": "11190263",
   "metadata": {},
   "source": [
    "### Join with attributes"
   ]
  },
  {
   "cell_type": "code",
   "execution_count": 84,
   "id": "0181464c",
   "metadata": {},
   "outputs": [
    {
     "name": "stdout",
     "output_type": "stream",
     "text": [
      "time: 704 µs\n"
     ]
    }
   ],
   "source": [
    "def special_join(df, join_df):\n",
    "    \"\"\"\n",
    "    Returns spatial join of two input features\n",
    "    \n",
    "    Parameters\n",
    "    ----------\n",
    "    df : geodataframe\n",
    "        left join features\n",
    "    join_df : geodataframe\n",
    "        right join features\n",
    "        \n",
    "    Returns\n",
    "    -------\n",
    "    out_df : geodataframe\n",
    "        spatial join of two input features\n",
    "    \"\"\"\n",
    "    out_df = df.to_crs(4326)\n",
    "    out_df = gpd.overlay(join_df, out_df, how='intersection')\n",
    "    #there might be multiple per taxlot, so choose the largest\n",
    "    out_df['area'] = out_df.geometry.area\n",
    "    #sort by area\n",
    "    out_df.sort_values(by='area', inplace=True)\n",
    "    #drop duplicates, keep largest/last\n",
    "    out_df.drop_duplicates(subset='id', keep='last', inplace=True)\n",
    "    out_df.drop(columns=['area'], inplace=True)\n",
    "    return out_df"
   ]
  },
  {
   "cell_type": "code",
   "execution_count": 85,
   "id": "60daeaa0",
   "metadata": {},
   "outputs": [
    {
     "name": "stdout",
     "output_type": "stream",
     "text": [
      "time: 82.2 ms\n"
     ]
    }
   ],
   "source": [
    "join = OR[['id', 'geometry']]"
   ]
  },
  {
   "cell_type": "markdown",
   "id": "d56a5081",
   "metadata": {},
   "source": [
    "Watersheds are specified at the subwatershed level, including name and huc12 "
   ]
  },
  {
   "cell_type": "code",
   "execution_count": 86,
   "id": "d39687f2",
   "metadata": {},
   "outputs": [
    {
     "name": "stdout",
     "output_type": "stream",
     "text": [
      "time: 7.48 s\n"
     ]
    }
   ],
   "source": [
    "# read in Watershed (HUC) polygons\n",
    "gdf = gpd.read_file(WATERSHED).to_crs(crs)\n",
    "water = gdf[['Name', 'HUC12', 'geometry']]"
   ]
  },
  {
   "cell_type": "code",
   "execution_count": 87,
   "id": "1511367e",
   "metadata": {},
   "outputs": [
    {
     "name": "stderr",
     "output_type": "stream",
     "text": [
      "/tmp/ipykernel_516802/3442444275.py:20: UserWarning: Geometry is in a geographic CRS. Results from 'area' are likely incorrect. Use 'GeoSeries.to_crs()' to re-project geometries to a projected CRS before this operation.\n",
      "\n",
      "  out_df['area'] = out_df.geometry.area\n"
     ]
    },
    {
     "name": "stdout",
     "output_type": "stream",
     "text": [
      "<class 'pandas.core.frame.DataFrame'>\n",
      "Int64Index: 1801839 entries, 418917 to 1771308\n",
      "Data columns (total 3 columns):\n",
      " #   Column  Dtype \n",
      "---  ------  ----- \n",
      " 0   id      int64 \n",
      " 1   Name    object\n",
      " 2   HUC12   object\n",
      "dtypes: int64(1), object(2)\n",
      "memory usage: 55.0+ MB\n",
      "time: 7min 45s\n"
     ]
    }
   ],
   "source": [
    "# spatial join \n",
    "OR_huc = special_join(water, join)\n",
    "huc_out = pd.DataFrame(OR_huc[['id', 'Name', 'HUC12']])\n",
    "huc_out.info()"
   ]
  },
  {
   "cell_type": "markdown",
   "id": "065b5b54",
   "metadata": {},
   "source": [
    "Legal description pulled from PLSS data - Township, Section, Range"
   ]
  },
  {
   "cell_type": "code",
   "execution_count": 109,
   "id": "a99123ed",
   "metadata": {},
   "outputs": [
    {
     "name": "stdout",
     "output_type": "stream",
     "text": [
      "time: 21min 50s\n"
     ]
    }
   ],
   "source": [
    "# read in PLSS dataset\n",
    "plss = gpd.read_file(PLSS, driver='FileGDB', layer=PLSS_LAYER)\n",
    "plss = plss[['TWNSHPLAB', 'FRSTDIVNO', 'geometry']]\n",
    "plss = plss.rename(columns={'TWNSHPLAB': 'township', 'FRSTDIVNO': 'section'})"
   ]
  },
  {
   "cell_type": "code",
   "execution_count": 110,
   "id": "7be18e29",
   "metadata": {},
   "outputs": [
    {
     "name": "stdout",
     "output_type": "stream",
     "text": [
      "time: 25 s\n"
     ]
    }
   ],
   "source": [
    "#format the column \n",
    "plss['LegalDesc'] = (plss.apply(lambda x: \"S{} ({})\".format(x.section, x.township), axis=1))\n",
    "plss = plss[['LegalDesc', 'geometry']]"
   ]
  },
  {
   "cell_type": "code",
   "execution_count": 111,
   "id": "52e85a87",
   "metadata": {},
   "outputs": [
    {
     "name": "stdout",
     "output_type": "stream",
     "text": [
      "<class 'geopandas.geodataframe.GeoDataFrame'>\n",
      "RangeIndex: 2015077 entries, 0 to 2015076\n",
      "Data columns (total 2 columns):\n",
      " #   Column     Dtype   \n",
      "---  ------     -----   \n",
      " 0   LegalDesc  object  \n",
      " 1   geometry   geometry\n",
      "dtypes: geometry(1), object(1)\n",
      "memory usage: 30.7+ MB\n",
      "time: 5.89 ms\n"
     ]
    }
   ],
   "source": [
    "plss.info()"
   ]
  },
  {
   "cell_type": "code",
   "execution_count": 112,
   "id": "d95a4f7d",
   "metadata": {},
   "outputs": [
    {
     "name": "stderr",
     "output_type": "stream",
     "text": [
      "/tmp/ipykernel_516802/3442444275.py:20: UserWarning: Geometry is in a geographic CRS. Results from 'area' are likely incorrect. Use 'GeoSeries.to_crs()' to re-project geometries to a projected CRS before this operation.\n",
      "\n",
      "  out_df['area'] = out_df.geometry.area\n"
     ]
    },
    {
     "name": "stdout",
     "output_type": "stream",
     "text": [
      "<class 'pandas.core.frame.DataFrame'>\n",
      "Int64Index: 1800362 entries, 121220 to 2139398\n",
      "Data columns (total 2 columns):\n",
      " #   Column     Dtype \n",
      "---  ------     ----- \n",
      " 0   id         int64 \n",
      " 1   LegalDesc  object\n",
      "dtypes: int64(1), object(1)\n",
      "memory usage: 41.2+ MB\n",
      "time: 6min 22s\n"
     ]
    }
   ],
   "source": [
    "# spatial join \n",
    "OR_plss = special_join(plss, join)\n",
    "plss_out = pd.DataFrame(OR_plss[['id', 'LegalDesc']])\n",
    "plss_out.info()"
   ]
  },
  {
   "cell_type": "markdown",
   "id": "0264c8ac",
   "metadata": {},
   "source": [
    "Forest Fire Districts"
   ]
  },
  {
   "cell_type": "code",
   "execution_count": 113,
   "id": "576e899c",
   "metadata": {},
   "outputs": [
    {
     "name": "stdout",
     "output_type": "stream",
     "text": [
      "time: 213 ms\n"
     ]
    }
   ],
   "source": [
    "# read in forest fire district data\n",
    "fire = gpd.read_file(FOREST_FIRE, driver=\"FileGDB\", layer = FOREST_LAYER)\n",
    "fire = fire[['ODF_FPD', 'geometry']]"
   ]
  },
  {
   "cell_type": "code",
   "execution_count": 114,
   "id": "9c1ddb54",
   "metadata": {},
   "outputs": [
    {
     "name": "stderr",
     "output_type": "stream",
     "text": [
      "/tmp/ipykernel_516802/3442444275.py:20: UserWarning: Geometry is in a geographic CRS. Results from 'area' are likely incorrect. Use 'GeoSeries.to_crs()' to re-project geometries to a projected CRS before this operation.\n",
      "\n",
      "  out_df['area'] = out_df.geometry.area\n"
     ]
    },
    {
     "name": "stdout",
     "output_type": "stream",
     "text": [
      "<class 'pandas.core.frame.DataFrame'>\n",
      "Int64Index: 708014 entries, 311416 to 499303\n",
      "Data columns (total 2 columns):\n",
      " #   Column   Non-Null Count   Dtype \n",
      "---  ------   --------------   ----- \n",
      " 0   id       708014 non-null  int64 \n",
      " 1   ODF_FPD  708014 non-null  object\n",
      "dtypes: int64(1), object(1)\n",
      "memory usage: 16.2+ MB\n",
      "time: 29min 4s\n"
     ]
    }
   ],
   "source": [
    "#spatial join with tax lots\n",
    "OR_fire = special_join(fire, join)\n",
    "fire_out = pd.DataFrame(OR_fire[['id', 'ODF_FPD']])\n",
    "fire_out.info()"
   ]
  },
  {
   "cell_type": "markdown",
   "id": "6b0a72a6",
   "metadata": {},
   "source": [
    "Structural Fire District"
   ]
  },
  {
   "cell_type": "code",
   "execution_count": 118,
   "id": "f061ab7f",
   "metadata": {},
   "outputs": [
    {
     "name": "stdout",
     "output_type": "stream",
     "text": [
      "time: 1.43 s\n"
     ]
    }
   ],
   "source": [
    "# read in structure fire district data\n",
    "struct = gpd.read_file(STRUCTURE_FIRE, driver=\"FileGDB\", layer = STRUCTURE_LAYER)\n",
    "struct = struct[['Agency', 'geometry']]"
   ]
  },
  {
   "cell_type": "code",
   "execution_count": 119,
   "id": "fb62336a",
   "metadata": {},
   "outputs": [
    {
     "name": "stderr",
     "output_type": "stream",
     "text": [
      "/tmp/ipykernel_516802/3442444275.py:20: UserWarning: Geometry is in a geographic CRS. Results from 'area' are likely incorrect. Use 'GeoSeries.to_crs()' to re-project geometries to a projected CRS before this operation.\n",
      "\n",
      "  out_df['area'] = out_df.geometry.area\n"
     ]
    },
    {
     "name": "stdout",
     "output_type": "stream",
     "text": [
      "<class 'pandas.core.frame.DataFrame'>\n",
      "Int64Index: 1698982 entries, 480006 to 1329845\n",
      "Data columns (total 2 columns):\n",
      " #   Column  Dtype \n",
      "---  ------  ----- \n",
      " 0   id      int64 \n",
      " 1   Agency  object\n",
      "dtypes: int64(1), object(1)\n",
      "memory usage: 38.9+ MB\n",
      "time: 30min 14s\n"
     ]
    }
   ],
   "source": [
    "#spatial join with tax lots\n",
    "OR_struct = special_join(struct, join)\n",
    "struct_out = pd.DataFrame(OR_struct[['id', 'Agency']])\n",
    "struct_out.info()"
   ]
  },
  {
   "cell_type": "markdown",
   "id": "f86c5501",
   "metadata": {},
   "source": [
    "Oregon Zoning Use"
   ]
  },
  {
   "cell_type": "code",
   "execution_count": 122,
   "id": "f2597b14",
   "metadata": {},
   "outputs": [
    {
     "name": "stdout",
     "output_type": "stream",
     "text": [
      "time: 43.5 s\n"
     ]
    }
   ],
   "source": [
    "# read in Zoning data\n",
    "zone = gpd.read_file(ZONING)\n",
    "zone = zone[['orZDesc', 'geometry']]"
   ]
  },
  {
   "cell_type": "code",
   "execution_count": 123,
   "id": "306881c4",
   "metadata": {},
   "outputs": [
    {
     "name": "stderr",
     "output_type": "stream",
     "text": [
      "/tmp/ipykernel_516802/3442444275.py:20: UserWarning: Geometry is in a geographic CRS. Results from 'area' are likely incorrect. Use 'GeoSeries.to_crs()' to re-project geometries to a projected CRS before this operation.\n",
      "\n",
      "  out_df['area'] = out_df.geometry.area\n"
     ]
    },
    {
     "name": "stdout",
     "output_type": "stream",
     "text": [
      "<class 'pandas.core.frame.DataFrame'>\n",
      "Int64Index: 1793947 entries, 644587 to 1836512\n",
      "Data columns (total 2 columns):\n",
      " #   Column   Dtype \n",
      "---  ------   ----- \n",
      " 0   id       int64 \n",
      " 1   orZDesc  object\n",
      "dtypes: int64(1), object(1)\n",
      "memory usage: 41.1+ MB\n",
      "time: 17h 54min 13s\n"
     ]
    }
   ],
   "source": [
    "#spatial join with tax lots\n",
    "OR_zone = special_join(zone, join)\n",
    "zone_out = pd.DataFrame(OR_zone[['id', 'orZDesc']])\n",
    "zone_out.info()"
   ]
  },
  {
   "cell_type": "markdown",
   "id": "e3c822b9",
   "metadata": {},
   "source": [
    "Combine and export "
   ]
  },
  {
   "cell_type": "code",
   "execution_count": 138,
   "id": "c016cce7",
   "metadata": {},
   "outputs": [
    {
     "name": "stdout",
     "output_type": "stream",
     "text": [
      "<class 'geopandas.geodataframe.GeoDataFrame'>\n",
      "Int64Index: 1801839 entries, 0 to 1801838\n",
      "Data columns (total 15 columns):\n",
      " #   Column     Dtype   \n",
      "---  ------     -----   \n",
      " 0   id         int64   \n",
      " 1   OBJECTID   int64   \n",
      " 2   Taxlot     object  \n",
      " 3   MapTaxlot  object  \n",
      " 4   ORTaxlot   object  \n",
      " 5   MIN        float64 \n",
      " 6   MAX        float64 \n",
      " 7   geometry   geometry\n",
      " 8   county     object  \n",
      " 9   Name       object  \n",
      " 10  HUC12      object  \n",
      " 11  LegalDesc  object  \n",
      " 12  ODF_FPD    object  \n",
      " 13  Agency     object  \n",
      " 14  orZDesc    object  \n",
      "dtypes: float64(2), geometry(1), int64(2), object(10)\n",
      "memory usage: 220.0+ MB\n",
      "time: 8.1 s\n"
     ]
    }
   ],
   "source": [
    "# merge dataframes\n",
    "export = OR_county.merge(huc_out, on='id', how='left')\n",
    "export = export.merge(plss_out, on='id', how='left')\n",
    "export = export.merge(fire_out, on='id', how='left')\n",
    "export = export.merge(struct_out, on='id', how='left')\n",
    "export = export.merge(zone_out, on='id', how='left')\n",
    "export.info()"
   ]
  },
  {
   "cell_type": "code",
   "execution_count": 145,
   "id": "e5510d60",
   "metadata": {},
   "outputs": [
    {
     "name": "stdout",
     "output_type": "stream",
     "text": [
      "<class 'geopandas.geodataframe.GeoDataFrame'>\n",
      "Int64Index: 1801839 entries, 0 to 1801838\n",
      "Data columns (total 14 columns):\n",
      " #   Column      Dtype   \n",
      "---  ------      -----   \n",
      " 0   id          int64   \n",
      " 1   odf_fpd     object  \n",
      " 2   agency      object  \n",
      " 3   orzdesc     object  \n",
      " 4   huc12       object  \n",
      " 5   name        object  \n",
      " 6   legalDesc   object  \n",
      " 7   MIN         float64 \n",
      " 8   MAX         float64 \n",
      " 9   source      object  \n",
      " 10  map_taxlot  int64   \n",
      " 11  map_id      object  \n",
      " 12  county      object  \n",
      " 13  geometry    geometry\n",
      "dtypes: float64(2), geometry(1), int64(2), object(9)\n",
      "memory usage: 206.2+ MB\n",
      "time: 221 ms\n"
     ]
    },
    {
     "name": "stderr",
     "output_type": "stream",
     "text": [
      "/tmp/ipykernel_516802/4202190423.py:4: SettingWithCopyWarning: \n",
      "A value is trying to be set on a copy of a slice from a DataFrame\n",
      "\n",
      "See the caveats in the documentation: https://pandas.pydata.org/pandas-docs/stable/user_guide/indexing.html#returning-a-view-versus-a-copy\n",
      "  export_sub.rename(columns={'ODF_FPD': 'odf_fpd', 'Agency': 'agency', 'orZDesc':'orzdesc', 'HUC12':'huc12', 'Name':'name', 'OBJECTID':'map_taxlot', 'LegalDesc':'legalDesc'}, inplace=True)\n"
     ]
    }
   ],
   "source": [
    "export_sub = export[['id', 'ODF_FPD', 'Agency', 'orZDesc', 'HUC12', 'Name', 'LegalDesc', 'MIN', 'MAX', 'OBJECTID','county', 'geometry']]\n",
    "export_sub.insert(9, 'source', 'ORMAP')\n",
    "export_sub.insert(11, 'map_id', '')\n",
    "export_sub.rename(columns={'ODF_FPD': 'odf_fpd', 'Agency': 'agency', 'orZDesc':'orzdesc', 'HUC12':'huc12', 'Name':'name', 'OBJECTID':'map_taxlot', 'LegalDesc':'legalDesc'}, inplace=True)\n",
    "export_sub.info()"
   ]
  },
  {
   "cell_type": "code",
   "execution_count": 142,
   "id": "1b63f727",
   "metadata": {},
   "outputs": [
    {
     "name": "stdout",
     "output_type": "stream",
     "text": [
      "time: 1min 42s\n"
     ]
    }
   ],
   "source": [
    "EXPORT = '../data/OR_Attributes.csv'\n",
    "export_sub.to_csv(EXPORT, encoding='utf-8', index=False)"
   ]
  },
  {
   "cell_type": "code",
   "execution_count": 146,
   "id": "f5e7555a",
   "metadata": {},
   "outputs": [
    {
     "name": "stdout",
     "output_type": "stream",
     "text": [
      "time: 8min 10s\n"
     ]
    }
   ],
   "source": [
    "EXPORT = '../data/OR_Attributes.shp'\n",
    "export_sub.to_file(EXPORT)"
   ]
  },
  {
   "cell_type": "code",
   "execution_count": 3,
   "id": "5ccc6299",
   "metadata": {},
   "outputs": [
    {
     "name": "stdout",
     "output_type": "stream",
     "text": [
      "time: 6min 20s\n"
     ]
    }
   ],
   "source": [
    "# read in parcels \n",
    "OR = gpd.read_file('../data/OR_Attributes.shp')"
   ]
  },
  {
   "cell_type": "code",
   "execution_count": null,
   "id": "38ff1f76",
   "metadata": {},
   "outputs": [],
   "source": []
  },
  {
   "cell_type": "code",
   "execution_count": null,
   "id": "038ddcc6",
   "metadata": {},
   "outputs": [],
   "source": []
  },
  {
   "cell_type": "code",
   "execution_count": null,
   "id": "e34e9115",
   "metadata": {},
   "outputs": [],
   "source": [
    "# #set up client with 32 cores \n",
    "# client = Client(\n",
    "#     LocalCluster(\n",
    "#         n_workers = 32,\n",
    "#         processes=True,\n",
    "#         threads_per_worker=5\n",
    "#     )\n",
    "# )\n",
    "\n",
    "# #create dask dataframe\n",
    "# OR_dask = dask_geopandas.from_geopandas(OR_county, npartitions=160)\n",
    "# OR_dask.info()\n",
    "# test_join = dask_geopandas.sjoin(OR_dask, water, predicate='within')\n",
    "# r = test_join.compute()"
   ]
  }
 ],
 "metadata": {
  "kernelspec": {
   "display_name": "Python 3 (ipykernel)",
   "language": "python",
   "name": "python3"
  },
  "language_info": {
   "codemirror_mode": {
    "name": "ipython",
    "version": 3
   },
   "file_extension": ".py",
   "mimetype": "text/x-python",
   "name": "python",
   "nbconvert_exporter": "python",
   "pygments_lexer": "ipython3",
   "version": "3.10.9"
  }
 },
 "nbformat": 4,
 "nbformat_minor": 5
}
