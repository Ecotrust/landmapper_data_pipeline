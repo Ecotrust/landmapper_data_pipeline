{
 "cells": [
  {
   "cell_type": "markdown",
   "id": "d3e61fa4",
   "metadata": {},
   "source": [
    "## Assigining attribute values to Oregon tax lot parcels\n",
    "\n",
    "### Summary\n",
    "In this notebook we add descriptive attributes to Oregon tax lot polygons for use in Landmapper. These attributes are displayed on the first page of the Landmapper map package. \n",
    "* **ID** - fieldname: *id*, source: create, type: double\n",
    "* **Acres** - fieldname: *acres*, source: create, type: double\n",
    "* **Elevation range** - fieldnames: *min_ft*, *max_ft*, source: , type: double\n",
    "* **Legal Description** - fieldname: *legalDesc*, source: , type:text\n",
    "* **County** - fieldname: *county*, source:parcels, type: text\n",
    "* **Forest Fire District** - fieldname: *odf_fpd*, source:\n",
    "* **Structure Fire District** - fieldname: *agency*, source:\n",
    "* **Land use** - fieldname: *landuse*, source: parcel, type: text\n",
    "* **Watershed Name** - fieldname: *name*, source: USGS WBD\n",
    "* **Watershed (HUC)** - fieldname: *huc12*, source USGS WBD\n",
    "* **Coordinates** - fieldnames: lat, lon\n",
    "* **Elevation Range** - fieldnames: min, max"
   ]
  },
  {
   "cell_type": "markdown",
   "id": "4f4979e5",
   "metadata": {},
   "source": [
    "**Sources**\n",
    "* Parcels - https://geo.wa.gov/datasets/wa-geoservices::current-parcels/about\n",
    "* Landuse Codes - https://depts.washington.edu/wagis/projects/parcels/producers/qaqc/summary.php?org=416&nid=63\n",
    "* Legal Description - https://gis.blm.gov/arcgis/rest/services/Cadastral/BLM_Natl_PLSS_CadNSDI/MapServer\n",
    "* Watersheds - https://hydro.nationalmap.gov/arcgis/rest/services/wbd/MapServer"
   ]
  },
  {
   "cell_type": "code",
   "execution_count": 1,
   "id": "c3dd7349",
   "metadata": {},
   "outputs": [],
   "source": [
    "%load_ext autotime\n",
    "import os\n",
    "\n",
    "import pandas as pd\n",
    "import geopandas as gpd\n",
    "import numpy as np\n",
    "import dask_geopandas\n",
    "import dask.dataframe\n",
    "from dask.distributed import Client, LocalCluster\n",
    "from rasterstats import zonal_stats\n",
    "import rasterio "
   ]
  },
  {
   "cell_type": "code",
   "execution_count": 48,
   "id": "2c911f86",
   "metadata": {},
   "outputs": [
    {
     "name": "stdout",
     "output_type": "stream",
     "text": [
      "time: 788 µs\n"
     ]
    }
   ],
   "source": [
    "# PROJECT PATHS\n",
    "# also stored on knowsys at Landmapper_2020/Data\n",
    "TAXLOTS = \"../data/Parcels_2023_small_ele.shp\"\n",
    "LANDUSE_CODES = \"../data/WA_source/Landuse_Code_Lookup.csv\"\n",
    "WATERSHED = \"../data/WA_source/NHD_H_Washington_State_Shape/Shape/WBDHU12.shp\"\n",
    "PLSS = \"../data/WA_source/WA_PLSS/WA_Public_Land_Survey_Sections.shp\"\n",
    "TAXLOTS_LARGE = \"../data/WA_taxlot_attributes_091123.shp\""
   ]
  },
  {
   "cell_type": "markdown",
   "id": "d5c692d0",
   "metadata": {},
   "source": [
    "### Load and preprocess tax lots"
   ]
  },
  {
   "cell_type": "markdown",
   "id": "d8a5ae92",
   "metadata": {},
   "source": [
    "Still nee to implement zonal statistics of DEM data to assign MIN & MAX values to each taxlot in this notebook. Currently being done outside of this process - MIN/MAX values are already in TAXLOTS file. "
   ]
  },
  {
   "cell_type": "code",
   "execution_count": 3,
   "id": "a6a89b96",
   "metadata": {},
   "outputs": [
    {
     "name": "stdout",
     "output_type": "stream",
     "text": [
      "time: 8min 4s\n"
     ]
    }
   ],
   "source": [
    "# read in parcels \n",
    "WA = gpd.read_file(TAXLOTS)\n",
    "# grab crs\n",
    "crs = WA.crs"
   ]
  },
  {
   "cell_type": "code",
   "execution_count": 4,
   "id": "1cc6eff5",
   "metadata": {},
   "outputs": [
    {
     "name": "stdout",
     "output_type": "stream",
     "text": [
      "<class 'geopandas.geodataframe.GeoDataFrame'>\n",
      "RangeIndex: 2639885 entries, 0 to 2639884\n",
      "Data columns (total 14 columns):\n",
      " #   Column      Dtype   \n",
      "---  ------      -----   \n",
      " 0   OBJECTID    int64   \n",
      " 1   COUNTY_NM   object  \n",
      " 2   LANDUSE_CD  int64   \n",
      " 3   VALUE_LAND  int64   \n",
      " 4   VALUE_BLDG  int64   \n",
      " 5   acres       float64 \n",
      " 6   id          int64   \n",
      " 7   OID_1       int64   \n",
      " 8   OBJECTID_1  int64   \n",
      " 9   COUNT       float64 \n",
      " 10  AREA        float64 \n",
      " 11  MIN         float64 \n",
      " 12  MAX         float64 \n",
      " 13  geometry    geometry\n",
      "dtypes: float64(5), geometry(1), int64(7), object(1)\n",
      "memory usage: 282.0+ MB\n",
      "time: 84 ms\n"
     ]
    }
   ],
   "source": [
    "WA.info()"
   ]
  },
  {
   "cell_type": "code",
   "execution_count": 5,
   "id": "27b0885c",
   "metadata": {},
   "outputs": [
    {
     "name": "stdout",
     "output_type": "stream",
     "text": [
      "time: 247 ms\n"
     ]
    }
   ],
   "source": [
    "#drop unneeded fields\n",
    "WA.drop(['VALUE_LAND', 'VALUE_BLDG', 'acres', 'OID_1', 'OBJECTID_1', 'COUNT', 'AREA'], axis=1, inplace=True)"
   ]
  },
  {
   "cell_type": "markdown",
   "id": "218d5b0a",
   "metadata": {},
   "source": [
    "Landuse codes must be converted to text description from matrix. "
   ]
  },
  {
   "cell_type": "code",
   "execution_count": 6,
   "id": "930fe670",
   "metadata": {},
   "outputs": [
    {
     "name": "stdout",
     "output_type": "stream",
     "text": [
      "time: 1.09 s\n"
     ]
    }
   ],
   "source": [
    "#read in matrix - path at top\n",
    "codes = pd.read_csv(LANDUSE_CODES)\n",
    "# join based on LANDUSE_CD\n",
    "WA = pd.merge(WA, codes, on=\"LANDUSE_CD\", how='left')"
   ]
  },
  {
   "cell_type": "code",
   "execution_count": 10,
   "id": "a72b58b5",
   "metadata": {},
   "outputs": [
    {
     "name": "stdout",
     "output_type": "stream",
     "text": [
      "<class 'geopandas.geodataframe.GeoDataFrame'>\n",
      "Int64Index: 2663441 entries, 0 to 2663440\n",
      "Data columns (total 8 columns):\n",
      " #   Column      Dtype   \n",
      "---  ------      -----   \n",
      " 0   OBJECTID    int64   \n",
      " 1   COUNTY_NM   object  \n",
      " 2   LANDUSE_CD  int64   \n",
      " 3   id          int64   \n",
      " 4   MIN         float64 \n",
      " 5   MAX         float64 \n",
      " 6   geometry    geometry\n",
      " 7   landuse     object  \n",
      "dtypes: float64(2), geometry(1), int64(3), object(2)\n",
      "memory usage: 182.9+ MB\n",
      "time: 6.12 ms\n"
     ]
    }
   ],
   "source": [
    "WA.info()"
   ]
  },
  {
   "cell_type": "markdown",
   "id": "11190263",
   "metadata": {},
   "source": [
    "### Join with attributes"
   ]
  },
  {
   "cell_type": "code",
   "execution_count": 24,
   "id": "0181464c",
   "metadata": {},
   "outputs": [
    {
     "name": "stdout",
     "output_type": "stream",
     "text": [
      "time: 1.17 ms\n"
     ]
    }
   ],
   "source": [
    "def special_join(df, join_df):\n",
    "    \"\"\"\n",
    "    Returns spatial join of two input features\n",
    "    \n",
    "    Parameters\n",
    "    ----------\n",
    "    df : geodataframe\n",
    "        left join features\n",
    "    join_df : geodataframe\n",
    "        right join features\n",
    "        \n",
    "    Returns\n",
    "    -------\n",
    "    out_df : geodataframe\n",
    "        spatial join of two input features\n",
    "    \"\"\"\n",
    "    out_df = df.to_crs(2927)\n",
    "    out_df = gpd.overlay(join_df, out_df, how='intersection')\n",
    "    #there might be multiple per taxlot, so choose the largest\n",
    "    out_df['area'] = out_df.geometry.area\n",
    "    #sort by area\n",
    "    out_df.sort_values(by='area', inplace=True)\n",
    "    #drop duplicates, keep largest/last\n",
    "    out_df.drop_duplicates(subset='id', keep='last', inplace=True)\n",
    "    out_df.drop(columns=['area'], inplace=True)\n",
    "    return out_df"
   ]
  },
  {
   "cell_type": "code",
   "execution_count": 12,
   "id": "60daeaa0",
   "metadata": {},
   "outputs": [
    {
     "name": "stdout",
     "output_type": "stream",
     "text": [
      "time: 197 ms\n"
     ]
    }
   ],
   "source": [
    "join = WA[['id', 'geometry']]"
   ]
  },
  {
   "cell_type": "markdown",
   "id": "d56a5081",
   "metadata": {},
   "source": [
    "Watersheds are specified at the subwatershed level, including name and huc12 "
   ]
  },
  {
   "cell_type": "code",
   "execution_count": 26,
   "id": "d39687f2",
   "metadata": {},
   "outputs": [
    {
     "name": "stdout",
     "output_type": "stream",
     "text": [
      "time: 5.4 s\n"
     ]
    }
   ],
   "source": [
    "# read in Watershed (HUC) polygons\n",
    "gdf = gpd.read_file(WATERSHED)\n",
    "water = gdf[['name', 'huc12', 'geometry']]"
   ]
  },
  {
   "cell_type": "code",
   "execution_count": 28,
   "id": "1511367e",
   "metadata": {},
   "outputs": [
    {
     "name": "stdout",
     "output_type": "stream",
     "text": [
      "<class 'pandas.core.frame.DataFrame'>\n",
      "Int64Index: 2639885 entries, 1632289 to 2093596\n",
      "Data columns (total 3 columns):\n",
      " #   Column  Dtype \n",
      "---  ------  ----- \n",
      " 0   id      int64 \n",
      " 1   name    object\n",
      " 2   huc12   object\n",
      "dtypes: int64(1), object(2)\n",
      "memory usage: 80.6+ MB\n",
      "time: 18min 5s\n"
     ]
    }
   ],
   "source": [
    "# spatial join \n",
    "WA_huc = special_join(water, join)\n",
    "huc_out = pd.DataFrame(WA_huc[['id', 'name', 'huc12']])\n",
    "huc_out.info()"
   ]
  },
  {
   "cell_type": "markdown",
   "id": "065b5b54",
   "metadata": {},
   "source": [
    "Legal description pulled from PLSS data - Township, Section, Range"
   ]
  },
  {
   "cell_type": "code",
   "execution_count": 42,
   "id": "a99123ed",
   "metadata": {},
   "outputs": [
    {
     "name": "stdout",
     "output_type": "stream",
     "text": [
      "time: 36.3 s\n"
     ]
    }
   ],
   "source": [
    "# read in PLSS dataset\n",
    "plss = gpd.read_file(PLSS)\n",
    "plss = plss[['LEGAL_DE_4', 'geometry']]"
   ]
  },
  {
   "cell_type": "code",
   "execution_count": 36,
   "id": "52e85a87",
   "metadata": {},
   "outputs": [
    {
     "name": "stdout",
     "output_type": "stream",
     "text": [
      "<class 'geopandas.geodataframe.GeoDataFrame'>\n",
      "RangeIndex: 70719 entries, 0 to 70718\n",
      "Data columns (total 2 columns):\n",
      " #   Column      Non-Null Count  Dtype   \n",
      "---  ------      --------------  -----   \n",
      " 0   LEGAL_DE_4  70719 non-null  object  \n",
      " 1   geometry    70719 non-null  geometry\n",
      "dtypes: geometry(1), object(1)\n",
      "memory usage: 1.1+ MB\n",
      "time: 21.1 ms\n"
     ]
    }
   ],
   "source": [
    "plss.info()"
   ]
  },
  {
   "cell_type": "code",
   "execution_count": 38,
   "id": "d95a4f7d",
   "metadata": {},
   "outputs": [
    {
     "name": "stdout",
     "output_type": "stream",
     "text": [
      "<class 'pandas.core.frame.DataFrame'>\n",
      "Int64Index: 2616519 entries, 1463412 to 2674936\n",
      "Data columns (total 2 columns):\n",
      " #   Column      Dtype \n",
      "---  ------      ----- \n",
      " 0   id          int64 \n",
      " 1   LEGAL_DE_4  object\n",
      "dtypes: int64(1), object(1)\n",
      "memory usage: 59.9+ MB\n",
      "time: 1min 54s\n"
     ]
    }
   ],
   "source": [
    "# spatial join \n",
    "WA_plss = special_join(plss, join)\n",
    "plss_out = pd.DataFrame(WA_plss[['id', 'LEGAL_DE_4']])\n",
    "plss_out.info()"
   ]
  },
  {
   "cell_type": "markdown",
   "id": "e3c822b9",
   "metadata": {},
   "source": [
    "Combine and export "
   ]
  },
  {
   "cell_type": "code",
   "execution_count": 41,
   "id": "c016cce7",
   "metadata": {},
   "outputs": [
    {
     "name": "stdout",
     "output_type": "stream",
     "text": [
      "<class 'geopandas.geodataframe.GeoDataFrame'>\n",
      "Int64Index: 2663441 entries, 0 to 2663440\n",
      "Data columns (total 11 columns):\n",
      " #   Column      Dtype   \n",
      "---  ------      -----   \n",
      " 0   OBJECTID    int64   \n",
      " 1   COUNTY_NM   object  \n",
      " 2   LANDUSE_CD  int64   \n",
      " 3   id          int64   \n",
      " 4   MIN         float64 \n",
      " 5   MAX         float64 \n",
      " 6   geometry    geometry\n",
      " 7   landuse     object  \n",
      " 8   name        object  \n",
      " 9   huc12       object  \n",
      " 10  LEGAL_DE_4  object  \n",
      "dtypes: float64(2), geometry(1), int64(3), object(5)\n",
      "memory usage: 243.8+ MB\n",
      "time: 3.65 s\n"
     ]
    }
   ],
   "source": [
    "# merge dataframes\n",
    "export = WA.merge(huc_out, on='id', how='left')\n",
    "export = export.merge(plss_out, on='id', how='left')\n",
    "export.info()"
   ]
  },
  {
   "cell_type": "code",
   "execution_count": 54,
   "id": "e5510d60",
   "metadata": {},
   "outputs": [
    {
     "name": "stderr",
     "output_type": "stream",
     "text": [
      "/tmp/ipykernel_1195107/3531910504.py:11: SettingWithCopyWarning: \n",
      "A value is trying to be set on a copy of a slice from a DataFrame\n",
      "\n",
      "See the caveats in the documentation: https://pandas.pydata.org/pandas-docs/stable/user_guide/indexing.html#returning-a-view-versus-a-copy\n",
      "  export_sub.rename(columns={'LEGAL_DE_4': 'legal_label', 'OBJECTID': 'map_taxlot', 'COUNTY_NM':'county'}, inplace=True)\n"
     ]
    },
    {
     "name": "stdout",
     "output_type": "stream",
     "text": [
      "<class 'geopandas.geodataframe.GeoDataFrame'>\n",
      "Int64Index: 2663441 entries, 0 to 2663440\n",
      "Data columns (total 14 columns):\n",
      " #   Column       Dtype   \n",
      "---  ------       -----   \n",
      " 0   id           int64   \n",
      " 1   odf_fpd      object  \n",
      " 2   agency       object  \n",
      " 3   landuse      object  \n",
      " 4   huc12        object  \n",
      " 5   name         object  \n",
      " 6   legal_label  object  \n",
      " 7   MIN          float64 \n",
      " 8   MAX          float64 \n",
      " 9   source       object  \n",
      " 10  map_taxlot   object  \n",
      " 11  map_id       object  \n",
      " 12  county       object  \n",
      " 13  geometry     geometry\n",
      "dtypes: float64(2), geometry(1), int64(1), object(10)\n",
      "memory usage: 304.8+ MB\n",
      "time: 835 ms\n"
     ]
    },
    {
     "name": "stderr",
     "output_type": "stream",
     "text": [
      "/home/sloreno/mambaforge/envs/geo/lib/python3.10/site-packages/geopandas/geodataframe.py:1443: SettingWithCopyWarning: \n",
      "A value is trying to be set on a copy of a slice from a DataFrame.\n",
      "Try using .loc[row_indexer,col_indexer] = value instead\n",
      "\n",
      "See the caveats in the documentation: https://pandas.pydata.org/pandas-docs/stable/user_guide/indexing.html#returning-a-view-versus-a-copy\n",
      "  super().__setitem__(key, value)\n"
     ]
    }
   ],
   "source": [
    "export_sub = export[['id', 'landuse', 'huc12', 'name', 'LEGAL_DE_4', 'MIN', 'MAX', 'OBJECTID', 'COUNTY_NM', 'geometry']]\n",
    "# insert missing fields\n",
    "# forest fire district - N/A in WA\n",
    "export_sub.insert(1,'odf_fpd',\"NA\")\n",
    "# structure fire district - N/A in WA\n",
    "export_sub.insert(2,'agency',\"NA\")\n",
    "# source of taxlots\n",
    "export_sub.insert(9,'source',\"DNR\")\n",
    "# not sure what this column is\n",
    "export_sub.insert(11,'map_id',\"NA\")\n",
    "export_sub.rename(columns={'LEGAL_DE_4': 'legal_label', 'OBJECTID': 'map_taxlot', 'COUNTY_NM':'county'}, inplace=True)\n",
    "# convert to string\n",
    "export_sub['map_taxlot'] = export_sub['map_taxlot'].apply(str)\n",
    "export_sub.info()"
   ]
  },
  {
   "cell_type": "code",
   "execution_count": 55,
   "id": "7d57a9b4",
   "metadata": {},
   "outputs": [
    {
     "data": {
      "text/html": [
       "<div>\n",
       "<style scoped>\n",
       "    .dataframe tbody tr th:only-of-type {\n",
       "        vertical-align: middle;\n",
       "    }\n",
       "\n",
       "    .dataframe tbody tr th {\n",
       "        vertical-align: top;\n",
       "    }\n",
       "\n",
       "    .dataframe thead th {\n",
       "        text-align: right;\n",
       "    }\n",
       "</style>\n",
       "<table border=\"1\" class=\"dataframe\">\n",
       "  <thead>\n",
       "    <tr style=\"text-align: right;\">\n",
       "      <th></th>\n",
       "      <th>id</th>\n",
       "      <th>odf_fpd</th>\n",
       "      <th>agency</th>\n",
       "      <th>landuse</th>\n",
       "      <th>huc12</th>\n",
       "      <th>name</th>\n",
       "      <th>legal_label</th>\n",
       "      <th>MIN</th>\n",
       "      <th>MAX</th>\n",
       "      <th>source</th>\n",
       "      <th>map_taxlot</th>\n",
       "      <th>map_id</th>\n",
       "      <th>county</th>\n",
       "      <th>geometry</th>\n",
       "    </tr>\n",
       "  </thead>\n",
       "  <tbody>\n",
       "    <tr>\n",
       "      <th>0</th>\n",
       "      <td>700000</td>\n",
       "      <td>NA</td>\n",
       "      <td>NA</td>\n",
       "      <td>NaN</td>\n",
       "      <td>170601080706</td>\n",
       "      <td>Twelvemile Lake</td>\n",
       "      <td>T16-0N R37-0E S12</td>\n",
       "      <td>453.778168</td>\n",
       "      <td>460.582153</td>\n",
       "      <td>DNR</td>\n",
       "      <td>1</td>\n",
       "      <td>NA</td>\n",
       "      <td>Adams</td>\n",
       "      <td>POLYGON ((2236595.797 579455.407, 2236387.087 ...</td>\n",
       "    </tr>\n",
       "    <tr>\n",
       "      <th>1</th>\n",
       "      <td>700001</td>\n",
       "      <td>NA</td>\n",
       "      <td>NA</td>\n",
       "      <td>NaN</td>\n",
       "      <td>170200151005</td>\n",
       "      <td>Saddle Gap</td>\n",
       "      <td>T15-0N R28-0E S09</td>\n",
       "      <td>217.998596</td>\n",
       "      <td>219.096863</td>\n",
       "      <td>DNR</td>\n",
       "      <td>4</td>\n",
       "      <td>NA</td>\n",
       "      <td>Adams</td>\n",
       "      <td>POLYGON ((1934757.561 540565.256, 1934756.807 ...</td>\n",
       "    </tr>\n",
       "    <tr>\n",
       "      <th>2</th>\n",
       "      <td>700002</td>\n",
       "      <td>NA</td>\n",
       "      <td>NA</td>\n",
       "      <td>NaN</td>\n",
       "      <td>170200150806</td>\n",
       "      <td>Lower Paha Coulee</td>\n",
       "      <td>T18-0N R34-0E S25</td>\n",
       "      <td>475.931732</td>\n",
       "      <td>478.895721</td>\n",
       "      <td>DNR</td>\n",
       "      <td>9</td>\n",
       "      <td>NA</td>\n",
       "      <td>Adams</td>\n",
       "      <td>POLYGON ((2141334.650 622587.000, 2141582.875 ...</td>\n",
       "    </tr>\n",
       "  </tbody>\n",
       "</table>\n",
       "</div>"
      ],
      "text/plain": [
       "       id odf_fpd agency landuse         huc12               name  \\\n",
       "0  700000      NA     NA     NaN  170601080706    Twelvemile Lake   \n",
       "1  700001      NA     NA     NaN  170200151005         Saddle Gap   \n",
       "2  700002      NA     NA     NaN  170200150806  Lower Paha Coulee   \n",
       "\n",
       "         legal_label         MIN         MAX source map_taxlot map_id county  \\\n",
       "0  T16-0N R37-0E S12  453.778168  460.582153    DNR          1     NA  Adams   \n",
       "1  T15-0N R28-0E S09  217.998596  219.096863    DNR          4     NA  Adams   \n",
       "2  T18-0N R34-0E S25  475.931732  478.895721    DNR          9     NA  Adams   \n",
       "\n",
       "                                            geometry  \n",
       "0  POLYGON ((2236595.797 579455.407, 2236387.087 ...  \n",
       "1  POLYGON ((1934757.561 540565.256, 1934756.807 ...  \n",
       "2  POLYGON ((2141334.650 622587.000, 2141582.875 ...  "
      ]
     },
     "execution_count": 55,
     "metadata": {},
     "output_type": "execute_result"
    },
    {
     "name": "stdout",
     "output_type": "stream",
     "text": [
      "time: 13.5 ms\n"
     ]
    }
   ],
   "source": [
    "export_sub.head(3)"
   ]
  },
  {
   "cell_type": "code",
   "execution_count": 142,
   "id": "1b63f727",
   "metadata": {},
   "outputs": [
    {
     "name": "stdout",
     "output_type": "stream",
     "text": [
      "time: 1min 42s\n"
     ]
    }
   ],
   "source": [
    "#EXPORT = '../data/OR_Attributes.csv'\n",
    "#export_sub.to_csv(EXPORT, encoding='utf-8', index=False)"
   ]
  },
  {
   "cell_type": "code",
   "execution_count": 146,
   "id": "f5e7555a",
   "metadata": {},
   "outputs": [
    {
     "name": "stdout",
     "output_type": "stream",
     "text": [
      "time: 8min 10s\n"
     ]
    }
   ],
   "source": [
    "EXPORT = '../data/WA_Attributes.shp'\n",
    "export_sub.to_file(EXPORT)"
   ]
  },
  {
   "cell_type": "code",
   "execution_count": null,
   "id": "e34e9115",
   "metadata": {},
   "outputs": [],
   "source": [
    "# #set up client with 32 cores \n",
    "# client = Client(\n",
    "#     LocalCluster(\n",
    "#         n_workers = 32,\n",
    "#         processes=True,\n",
    "#         threads_per_worker=5\n",
    "#     )\n",
    "# )\n",
    "\n",
    "# #create dask dataframe\n",
    "# OR_dask = dask_geopandas.from_geopandas(OR_county, npartitions=160)\n",
    "# OR_dask.info()\n",
    "# test_join = dask_geopandas.sjoin(OR_dask, water, predicate='within')\n",
    "# r = test_join.compute()"
   ]
  }
 ],
 "metadata": {
  "kernelspec": {
   "display_name": "Python 3 (ipykernel)",
   "language": "python",
   "name": "python3"
  },
  "language_info": {
   "codemirror_mode": {
    "name": "ipython",
    "version": 3
   },
   "file_extension": ".py",
   "mimetype": "text/x-python",
   "name": "python",
   "nbconvert_exporter": "python",
   "pygments_lexer": "ipython3",
   "version": "3.10.9"
  }
 },
 "nbformat": 4,
 "nbformat_minor": 5
}
