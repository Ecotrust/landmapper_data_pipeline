{
 "cells": [
  {
   "cell_type": "markdown",
   "metadata": {},
   "source": [
    "# Washington soil data compilation \n",
    "This notebook cleans and aggregates SSURGO data for use in Landmapper. The result is a spatial layer containing the soil attributes reported in the application. "
   ]
  },
  {
   "cell_type": "code",
   "execution_count": 3,
   "metadata": {},
   "outputs": [],
   "source": [
    "import pandas as pd\n",
    "import geopandas as gpd"
   ]
  },
  {
   "cell_type": "code",
   "execution_count": 4,
   "metadata": {},
   "outputs": [],
   "source": [
    "SOILS = \"G:/projects/LandMapper_2020/Data/Source/Soils/2023/WA/gSSURGO_WA.gdb\""
   ]
  },
  {
   "cell_type": "code",
   "execution_count": 5,
   "metadata": {},
   "outputs": [],
   "source": [
    "# read in relevant tables\n",
    "# Mapunit Aggregated Attributes\n",
    "muaggatt = gpd.read_file(SOILS, driver='fileGDB', layer='muaggatt')\n",
    "# Component\n",
    "component = gpd.read_file(SOILS, driver='fileGDB', layer='component')\n",
    "# Component Forest Productivity\n",
    "coforprod = gpd.read_file(SOILS, driver='fileGDB', layer='coforprod')\n",
    "# Component Restrictions\n",
    "corestrictions = gpd.read_file(SOILS, driver='fileGDB', layer='corestrictions')"
   ]
  },
  {
   "cell_type": "markdown",
   "metadata": {},
   "source": [
    "The muaggatt table has soil attribute aggregated to the map unit level.  This is convenient, as values from this table can be reported directly. \n",
    "We will pull name, drainage class, erosion hazard, and slope."
   ]
  },
  {
   "cell_type": "code",
   "execution_count": 6,
   "metadata": {},
   "outputs": [
    {
     "data": {
      "text/html": [
       "<div>\n",
       "<style scoped>\n",
       "    .dataframe tbody tr th:only-of-type {\n",
       "        vertical-align: middle;\n",
       "    }\n",
       "\n",
       "    .dataframe tbody tr th {\n",
       "        vertical-align: top;\n",
       "    }\n",
       "\n",
       "    .dataframe thead th {\n",
       "        text-align: right;\n",
       "    }\n",
       "</style>\n",
       "<table border=\"1\" class=\"dataframe\">\n",
       "  <thead>\n",
       "    <tr style=\"text-align: right;\">\n",
       "      <th></th>\n",
       "      <th>mukey</th>\n",
       "      <th>muname</th>\n",
       "      <th>drclassdcd</th>\n",
       "      <th>forpehrtdcp</th>\n",
       "    </tr>\n",
       "  </thead>\n",
       "  <tbody>\n",
       "    <tr>\n",
       "      <th>0</th>\n",
       "      <td>74975</td>\n",
       "      <td>Andic Cryochrepts, 60 to 90 percent slopes</td>\n",
       "      <td>Well drained</td>\n",
       "      <td>Severe</td>\n",
       "    </tr>\n",
       "    <tr>\n",
       "      <th>1</th>\n",
       "      <td>74976</td>\n",
       "      <td>Barnhardt gravelly loam, 0 to 5 percent slopes</td>\n",
       "      <td>Well drained</td>\n",
       "      <td>Slight</td>\n",
       "    </tr>\n",
       "  </tbody>\n",
       "</table>\n",
       "</div>"
      ],
      "text/plain": [
       "   mukey                                          muname    drclassdcd  \\\n",
       "0  74975      Andic Cryochrepts, 60 to 90 percent slopes  Well drained   \n",
       "1  74976  Barnhardt gravelly loam, 0 to 5 percent slopes  Well drained   \n",
       "\n",
       "  forpehrtdcp  \n",
       "0      Severe  \n",
       "1      Slight  "
      ]
     },
     "execution_count": 6,
     "metadata": {},
     "output_type": "execute_result"
    }
   ],
   "source": [
    "# let's start with ethe muaggatt table\n",
    "muaggatt_sub = muaggatt[['mukey', 'muname', 'drclassdcd', 'forpehrtdcp']]\n",
    "muaggatt_sub.head(2)"
   ]
  },
  {
   "cell_type": "code",
   "execution_count": 7,
   "metadata": {},
   "outputs": [
    {
     "name": "stdout",
     "output_type": "stream",
     "text": [
      "<class 'pandas.core.frame.DataFrame'>\n",
      "RangeIndex: 11035 entries, 0 to 11034\n",
      "Data columns (total 4 columns):\n",
      " #   Column       Non-Null Count  Dtype \n",
      "---  ------       --------------  ----- \n",
      " 0   mukey        11035 non-null  object\n",
      " 1   muname       11035 non-null  object\n",
      " 2   drclassdcd   10597 non-null  object\n",
      " 3   forpehrtdcp  11035 non-null  object\n",
      "dtypes: object(4)\n",
      "memory usage: 345.0+ KB\n"
     ]
    }
   ],
   "source": [
    "muaggatt_sub.info()"
   ]
  },
  {
   "cell_type": "markdown",
   "metadata": {},
   "source": [
    "The component table will just be used in relation to other tables reported at the component level (a subset of map unit)."
   ]
  },
  {
   "cell_type": "code",
   "execution_count": 8,
   "metadata": {},
   "outputs": [
    {
     "name": "stderr",
     "output_type": "stream",
     "text": [
      "C:\\Users\\sloreno\\AppData\\Local\\Temp\\ipykernel_38432\\2825768937.py:4: SettingWithCopyWarning: \n",
      "A value is trying to be set on a copy of a slice from a DataFrame.\n",
      "Try using .loc[row_indexer,col_indexer] = value instead\n",
      "\n",
      "See the caveats in the documentation: https://pandas.pydata.org/pandas-docs/stable/user_guide/indexing.html#returning-a-view-versus-a-copy\n",
      "  component_sub['comppct_p'] = component_sub['comppct_r']/100\n"
     ]
    },
    {
     "data": {
      "text/html": [
       "<div>\n",
       "<style scoped>\n",
       "    .dataframe tbody tr th:only-of-type {\n",
       "        vertical-align: middle;\n",
       "    }\n",
       "\n",
       "    .dataframe tbody tr th {\n",
       "        vertical-align: top;\n",
       "    }\n",
       "\n",
       "    .dataframe thead th {\n",
       "        text-align: right;\n",
       "    }\n",
       "</style>\n",
       "<table border=\"1\" class=\"dataframe\">\n",
       "  <thead>\n",
       "    <tr style=\"text-align: right;\">\n",
       "      <th></th>\n",
       "      <th>mukey</th>\n",
       "      <th>cokey</th>\n",
       "      <th>comppct_r</th>\n",
       "      <th>comppct_p</th>\n",
       "    </tr>\n",
       "  </thead>\n",
       "  <tbody>\n",
       "    <tr>\n",
       "      <th>0</th>\n",
       "      <td>74975</td>\n",
       "      <td>23177119</td>\n",
       "      <td>85</td>\n",
       "      <td>0.85</td>\n",
       "    </tr>\n",
       "    <tr>\n",
       "      <th>1</th>\n",
       "      <td>74975</td>\n",
       "      <td>23177120</td>\n",
       "      <td>4</td>\n",
       "      <td>0.04</td>\n",
       "    </tr>\n",
       "    <tr>\n",
       "      <th>2</th>\n",
       "      <td>74975</td>\n",
       "      <td>23177121</td>\n",
       "      <td>3</td>\n",
       "      <td>0.03</td>\n",
       "    </tr>\n",
       "  </tbody>\n",
       "</table>\n",
       "</div>"
      ],
      "text/plain": [
       "   mukey     cokey  comppct_r  comppct_p\n",
       "0  74975  23177119         85       0.85\n",
       "1  74975  23177120          4       0.04\n",
       "2  74975  23177121          3       0.03"
      ]
     },
     "execution_count": 8,
     "metadata": {},
     "output_type": "execute_result"
    }
   ],
   "source": [
    "# all we need from this table is the mukey - cokey crosswalk\n",
    "# and the component percentage of the map unit\n",
    "component_sub = component[['mukey', 'cokey', 'comppct_r']]\n",
    "component_sub['comppct_p'] = component_sub['comppct_r']/100\n",
    "component_sub.head(3)"
   ]
  },
  {
   "cell_type": "markdown",
   "metadata": {},
   "source": [
    "The Component Forest Productivity table contains the site index information."
   ]
  },
  {
   "cell_type": "code",
   "execution_count": 9,
   "metadata": {},
   "outputs": [
    {
     "name": "stdout",
     "output_type": "stream",
     "text": [
      "<class 'geopandas.geodataframe.GeoDataFrame'>\n",
      "Index: 16656 entries, 2 to 41944\n",
      "Data columns (total 13 columns):\n",
      " #   Column         Non-Null Count  Dtype   \n",
      "---  ------         --------------  -----   \n",
      " 0   plantsym       16656 non-null  object  \n",
      " 1   plantsciname   16656 non-null  object  \n",
      " 2   plantcomname   16656 non-null  object  \n",
      " 3   siteindexbase  16645 non-null  object  \n",
      " 4   siteindex_l    702 non-null    float64 \n",
      " 5   siteindex_r    16656 non-null  float64 \n",
      " 6   siteindex_h    702 non-null    float64 \n",
      " 7   fprod_l        0 non-null      float64 \n",
      " 8   fprod_r        15345 non-null  float64 \n",
      " 9   fprod_h        0 non-null      float64 \n",
      " 10  cokey          16656 non-null  object  \n",
      " 11  cofprodkey     16656 non-null  object  \n",
      " 12  geometry       0 non-null      geometry\n",
      "dtypes: float64(6), geometry(1), object(6)\n",
      "memory usage: 1.8+ MB\n"
     ]
    }
   ],
   "source": [
    "#first remove all null values from table\n",
    "coforprod_drop = coforprod[coforprod['siteindex_r'].notna()]\n",
    "coforprod_drop.info()"
   ]
  },
  {
   "cell_type": "code",
   "execution_count": 10,
   "metadata": {},
   "outputs": [],
   "source": [
    "# join with component table to see if there are multiple values per map unit\n",
    "coforprod_key = coforprod_drop.merge(component_sub, on='cokey', how='left')\n",
    "coforprod_key = coforprod_key.astype({'siteindex_r':'int'})\n",
    "# if multiple values, grab first one\n",
    "si_key = coforprod_key.groupby('mukey').first().reset_index()"
   ]
  },
  {
   "cell_type": "code",
   "execution_count": 11,
   "metadata": {},
   "outputs": [],
   "source": [
    "si_key['si_label'] = (si_key.apply(lambda x: \"{} - {} ft\".format(x.plantcomname, x.siteindex_r), axis=1))\n",
    "si_key = si_key[['mukey', 'si_label']]"
   ]
  },
  {
   "cell_type": "markdown",
   "metadata": {},
   "source": [
    "The Component Restrictions table for depth to restrictive layer information"
   ]
  },
  {
   "cell_type": "code",
   "execution_count": 14,
   "metadata": {},
   "outputs": [
    {
     "data": {
      "text/html": [
       "<div>\n",
       "<style scoped>\n",
       "    .dataframe tbody tr th:only-of-type {\n",
       "        vertical-align: middle;\n",
       "    }\n",
       "\n",
       "    .dataframe tbody tr th {\n",
       "        vertical-align: top;\n",
       "    }\n",
       "\n",
       "    .dataframe thead th {\n",
       "        text-align: right;\n",
       "    }\n",
       "</style>\n",
       "<table border=\"1\" class=\"dataframe\">\n",
       "  <thead>\n",
       "    <tr style=\"text-align: right;\">\n",
       "      <th></th>\n",
       "      <th>cokey</th>\n",
       "      <th>resdept_l</th>\n",
       "      <th>resdept_h</th>\n",
       "      <th>resdept_r</th>\n",
       "    </tr>\n",
       "  </thead>\n",
       "  <tbody>\n",
       "    <tr>\n",
       "      <th>0</th>\n",
       "      <td>23177156</td>\n",
       "      <td>51.0</td>\n",
       "      <td>102.0</td>\n",
       "      <td>76.0</td>\n",
       "    </tr>\n",
       "    <tr>\n",
       "      <th>1</th>\n",
       "      <td>23177616</td>\n",
       "      <td>30.0</td>\n",
       "      <td>51.0</td>\n",
       "      <td>41.0</td>\n",
       "    </tr>\n",
       "  </tbody>\n",
       "</table>\n",
       "</div>"
      ],
      "text/plain": [
       "      cokey  resdept_l  resdept_h  resdept_r\n",
       "0  23177156       51.0      102.0       76.0\n",
       "1  23177616       30.0       51.0       41.0"
      ]
     },
     "execution_count": 14,
     "metadata": {},
     "output_type": "execute_result"
    }
   ],
   "source": [
    "# in this table we need the cokey, \n",
    "# resdept_l - min depth to restrictive layer\n",
    "# resdept_h - max depth to restrictive layer\n",
    "corest_sub = corestrictions[['cokey','resdept_l', 'resdept_h', 'resdept_r']]\n",
    "corest_sub.head(2)"
   ]
  },
  {
   "cell_type": "code",
   "execution_count": 15,
   "metadata": {},
   "outputs": [
    {
     "name": "stdout",
     "output_type": "stream",
     "text": [
      "<class 'pandas.core.frame.DataFrame'>\n",
      "RangeIndex: 29996 entries, 0 to 29995\n",
      "Data columns (total 7 columns):\n",
      " #   Column     Non-Null Count  Dtype  \n",
      "---  ------     --------------  -----  \n",
      " 0   mukey      29996 non-null  object \n",
      " 1   cokey      29996 non-null  object \n",
      " 2   comppct_r  29996 non-null  int64  \n",
      " 3   comppct_p  29996 non-null  float64\n",
      " 4   resdept_l  11429 non-null  float64\n",
      " 5   resdept_h  11429 non-null  float64\n",
      " 6   resdept_r  11552 non-null  float64\n",
      "dtypes: float64(4), int64(1), object(2)\n",
      "memory usage: 1.6+ MB\n"
     ]
    }
   ],
   "source": [
    "# merge the corest_sub and component\n",
    "res = component_sub.merge(corest_sub, on='cokey', how='left')\n",
    "res.info()"
   ]
  },
  {
   "cell_type": "code",
   "execution_count": 16,
   "metadata": {},
   "outputs": [
    {
     "data": {
      "text/html": [
       "<div>\n",
       "<style scoped>\n",
       "    .dataframe tbody tr th:only-of-type {\n",
       "        vertical-align: middle;\n",
       "    }\n",
       "\n",
       "    .dataframe tbody tr th {\n",
       "        vertical-align: top;\n",
       "    }\n",
       "\n",
       "    .dataframe thead th {\n",
       "        text-align: right;\n",
       "    }\n",
       "</style>\n",
       "<table border=\"1\" class=\"dataframe\">\n",
       "  <thead>\n",
       "    <tr style=\"text-align: right;\">\n",
       "      <th></th>\n",
       "      <th>mukey</th>\n",
       "      <th>cokey</th>\n",
       "      <th>comppct_r</th>\n",
       "      <th>comppct_p</th>\n",
       "      <th>resdept_l</th>\n",
       "      <th>resdept_h</th>\n",
       "      <th>resdept_r</th>\n",
       "      <th>l_per</th>\n",
       "      <th>h_per</th>\n",
       "    </tr>\n",
       "  </thead>\n",
       "  <tbody>\n",
       "    <tr>\n",
       "      <th>0</th>\n",
       "      <td>74975</td>\n",
       "      <td>23177119</td>\n",
       "      <td>85</td>\n",
       "      <td>0.85</td>\n",
       "      <td>NaN</td>\n",
       "      <td>NaN</td>\n",
       "      <td>NaN</td>\n",
       "      <td>NaN</td>\n",
       "      <td>NaN</td>\n",
       "    </tr>\n",
       "    <tr>\n",
       "      <th>1</th>\n",
       "      <td>74975</td>\n",
       "      <td>23177120</td>\n",
       "      <td>4</td>\n",
       "      <td>0.04</td>\n",
       "      <td>NaN</td>\n",
       "      <td>NaN</td>\n",
       "      <td>NaN</td>\n",
       "      <td>NaN</td>\n",
       "      <td>NaN</td>\n",
       "    </tr>\n",
       "    <tr>\n",
       "      <th>2</th>\n",
       "      <td>74975</td>\n",
       "      <td>23177121</td>\n",
       "      <td>3</td>\n",
       "      <td>0.03</td>\n",
       "      <td>NaN</td>\n",
       "      <td>NaN</td>\n",
       "      <td>NaN</td>\n",
       "      <td>NaN</td>\n",
       "      <td>NaN</td>\n",
       "    </tr>\n",
       "    <tr>\n",
       "      <th>3</th>\n",
       "      <td>74975</td>\n",
       "      <td>23177122</td>\n",
       "      <td>2</td>\n",
       "      <td>0.02</td>\n",
       "      <td>NaN</td>\n",
       "      <td>NaN</td>\n",
       "      <td>NaN</td>\n",
       "      <td>NaN</td>\n",
       "      <td>NaN</td>\n",
       "    </tr>\n",
       "    <tr>\n",
       "      <th>4</th>\n",
       "      <td>74975</td>\n",
       "      <td>23177123</td>\n",
       "      <td>3</td>\n",
       "      <td>0.03</td>\n",
       "      <td>NaN</td>\n",
       "      <td>NaN</td>\n",
       "      <td>NaN</td>\n",
       "      <td>NaN</td>\n",
       "      <td>NaN</td>\n",
       "    </tr>\n",
       "    <tr>\n",
       "      <th>5</th>\n",
       "      <td>74975</td>\n",
       "      <td>23177124</td>\n",
       "      <td>3</td>\n",
       "      <td>0.03</td>\n",
       "      <td>NaN</td>\n",
       "      <td>NaN</td>\n",
       "      <td>NaN</td>\n",
       "      <td>NaN</td>\n",
       "      <td>NaN</td>\n",
       "    </tr>\n",
       "    <tr>\n",
       "      <th>6</th>\n",
       "      <td>74976</td>\n",
       "      <td>23177155</td>\n",
       "      <td>95</td>\n",
       "      <td>0.95</td>\n",
       "      <td>NaN</td>\n",
       "      <td>NaN</td>\n",
       "      <td>NaN</td>\n",
       "      <td>NaN</td>\n",
       "      <td>NaN</td>\n",
       "    </tr>\n",
       "    <tr>\n",
       "      <th>7</th>\n",
       "      <td>74976</td>\n",
       "      <td>23177156</td>\n",
       "      <td>3</td>\n",
       "      <td>0.03</td>\n",
       "      <td>51.0</td>\n",
       "      <td>102.0</td>\n",
       "      <td>76.0</td>\n",
       "      <td>1.53</td>\n",
       "      <td>3.06</td>\n",
       "    </tr>\n",
       "    <tr>\n",
       "      <th>8</th>\n",
       "      <td>74976</td>\n",
       "      <td>23177157</td>\n",
       "      <td>2</td>\n",
       "      <td>0.02</td>\n",
       "      <td>NaN</td>\n",
       "      <td>NaN</td>\n",
       "      <td>NaN</td>\n",
       "      <td>NaN</td>\n",
       "      <td>NaN</td>\n",
       "    </tr>\n",
       "    <tr>\n",
       "      <th>9</th>\n",
       "      <td>74977</td>\n",
       "      <td>23177613</td>\n",
       "      <td>90</td>\n",
       "      <td>0.90</td>\n",
       "      <td>NaN</td>\n",
       "      <td>NaN</td>\n",
       "      <td>NaN</td>\n",
       "      <td>NaN</td>\n",
       "      <td>NaN</td>\n",
       "    </tr>\n",
       "  </tbody>\n",
       "</table>\n",
       "</div>"
      ],
      "text/plain": [
       "   mukey     cokey  comppct_r  comppct_p  resdept_l  resdept_h  resdept_r  \\\n",
       "0  74975  23177119         85       0.85        NaN        NaN        NaN   \n",
       "1  74975  23177120          4       0.04        NaN        NaN        NaN   \n",
       "2  74975  23177121          3       0.03        NaN        NaN        NaN   \n",
       "3  74975  23177122          2       0.02        NaN        NaN        NaN   \n",
       "4  74975  23177123          3       0.03        NaN        NaN        NaN   \n",
       "5  74975  23177124          3       0.03        NaN        NaN        NaN   \n",
       "6  74976  23177155         95       0.95        NaN        NaN        NaN   \n",
       "7  74976  23177156          3       0.03       51.0      102.0       76.0   \n",
       "8  74976  23177157          2       0.02        NaN        NaN        NaN   \n",
       "9  74977  23177613         90       0.90        NaN        NaN        NaN   \n",
       "\n",
       "   l_per  h_per  \n",
       "0    NaN    NaN  \n",
       "1    NaN    NaN  \n",
       "2    NaN    NaN  \n",
       "3    NaN    NaN  \n",
       "4    NaN    NaN  \n",
       "5    NaN    NaN  \n",
       "6    NaN    NaN  \n",
       "7   1.53   3.06  \n",
       "8    NaN    NaN  \n",
       "9    NaN    NaN  "
      ]
     },
     "execution_count": 16,
     "metadata": {},
     "output_type": "execute_result"
    }
   ],
   "source": [
    "# let's calcuate the percentage weighted values and sum by mukey\n",
    "res['l_per'] = res['resdept_l']*res['comppct_p']\n",
    "res['h_per'] = res['resdept_h']*res['comppct_p']\n",
    "\n",
    "res.head(10)"
   ]
  },
  {
   "cell_type": "code",
   "execution_count": 18,
   "metadata": {},
   "outputs": [],
   "source": [
    "res_comp = res.groupby('mukey').agg({'l_per':sum, 'h_per':sum}).reset_index()"
   ]
  },
  {
   "cell_type": "markdown",
   "metadata": {},
   "source": [
    "## Let's join our tables together"
   ]
  },
  {
   "cell_type": "code",
   "execution_count": 20,
   "metadata": {},
   "outputs": [
    {
     "data": {
      "text/html": [
       "<div>\n",
       "<style scoped>\n",
       "    .dataframe tbody tr th:only-of-type {\n",
       "        vertical-align: middle;\n",
       "    }\n",
       "\n",
       "    .dataframe tbody tr th {\n",
       "        vertical-align: top;\n",
       "    }\n",
       "\n",
       "    .dataframe thead th {\n",
       "        text-align: right;\n",
       "    }\n",
       "</style>\n",
       "<table border=\"1\" class=\"dataframe\">\n",
       "  <thead>\n",
       "    <tr style=\"text-align: right;\">\n",
       "      <th></th>\n",
       "      <th>mukey</th>\n",
       "      <th>muname</th>\n",
       "      <th>drclassdcd</th>\n",
       "      <th>forpehrtdcp</th>\n",
       "      <th>si_label</th>\n",
       "      <th>avg_rs_l</th>\n",
       "      <th>avg_rs_h</th>\n",
       "    </tr>\n",
       "  </thead>\n",
       "  <tbody>\n",
       "    <tr>\n",
       "      <th>0</th>\n",
       "      <td>74975</td>\n",
       "      <td>Andic Cryochrepts, 60 to 90 percent slopes</td>\n",
       "      <td>Well drained</td>\n",
       "      <td>Severe</td>\n",
       "      <td>western hemlock - 89 ft</td>\n",
       "      <td>0.00</td>\n",
       "      <td>0.00</td>\n",
       "    </tr>\n",
       "    <tr>\n",
       "      <th>1</th>\n",
       "      <td>74976</td>\n",
       "      <td>Barnhardt gravelly loam, 0 to 5 percent slopes</td>\n",
       "      <td>Well drained</td>\n",
       "      <td>Slight</td>\n",
       "      <td>Douglas-fir - 106 ft</td>\n",
       "      <td>1.53</td>\n",
       "      <td>3.06</td>\n",
       "    </tr>\n",
       "    <tr>\n",
       "      <th>2</th>\n",
       "      <td>74977</td>\n",
       "      <td>Lynden sandy loam, 3 to 8 percent slopes</td>\n",
       "      <td>Well drained</td>\n",
       "      <td>Moderate</td>\n",
       "      <td>Douglas-fir - 112 ft</td>\n",
       "      <td>0.90</td>\n",
       "      <td>1.53</td>\n",
       "    </tr>\n",
       "    <tr>\n",
       "      <th>3</th>\n",
       "      <td>74978</td>\n",
       "      <td>Lynden-Urban land complex, 0 to 3 percent slopes</td>\n",
       "      <td>Well drained</td>\n",
       "      <td>Slight</td>\n",
       "      <td>Douglas-fir - 112 ft</td>\n",
       "      <td>0.90</td>\n",
       "      <td>1.53</td>\n",
       "    </tr>\n",
       "    <tr>\n",
       "      <th>4</th>\n",
       "      <td>74979</td>\n",
       "      <td>Lynnwood sandy loam, 0 to 5 percent slopes</td>\n",
       "      <td>Somewhat excessively drained</td>\n",
       "      <td>Moderate</td>\n",
       "      <td>Douglas-fir - 121 ft</td>\n",
       "      <td>0.60</td>\n",
       "      <td>1.02</td>\n",
       "    </tr>\n",
       "    <tr>\n",
       "      <th>5</th>\n",
       "      <td>74980</td>\n",
       "      <td>Lynnwood sandy loam, 5 to 20 percent slopes</td>\n",
       "      <td>Somewhat excessively drained</td>\n",
       "      <td>Severe</td>\n",
       "      <td>Douglas-fir - 121 ft</td>\n",
       "      <td>0.30</td>\n",
       "      <td>0.51</td>\n",
       "    </tr>\n",
       "    <tr>\n",
       "      <th>6</th>\n",
       "      <td>74981</td>\n",
       "      <td>Montborne gravelly loam, 5 to 30 percent slopes</td>\n",
       "      <td>Moderately well drained</td>\n",
       "      <td>Severe</td>\n",
       "      <td>Douglas-fir - 114 ft</td>\n",
       "      <td>43.35</td>\n",
       "      <td>86.70</td>\n",
       "    </tr>\n",
       "    <tr>\n",
       "      <th>7</th>\n",
       "      <td>74982</td>\n",
       "      <td>Montborne gravelly loam, 30 to 60 percent slopes</td>\n",
       "      <td>Moderately well drained</td>\n",
       "      <td>Severe</td>\n",
       "      <td>Douglas-fir - 114 ft</td>\n",
       "      <td>43.35</td>\n",
       "      <td>86.70</td>\n",
       "    </tr>\n",
       "    <tr>\n",
       "      <th>8</th>\n",
       "      <td>74983</td>\n",
       "      <td>Montborne-Rinker complex, 30 to 60 percent slopes</td>\n",
       "      <td>Moderately well drained</td>\n",
       "      <td>Severe</td>\n",
       "      <td>Douglas-fir - 107 ft</td>\n",
       "      <td>43.35</td>\n",
       "      <td>86.70</td>\n",
       "    </tr>\n",
       "    <tr>\n",
       "      <th>9</th>\n",
       "      <td>74984</td>\n",
       "      <td>Mt. Vernon fine sandy loam, 0 to 2 percent slopes</td>\n",
       "      <td>Moderately well drained</td>\n",
       "      <td>Slight</td>\n",
       "      <td>Douglas-fir - 130 ft</td>\n",
       "      <td>0.00</td>\n",
       "      <td>0.00</td>\n",
       "    </tr>\n",
       "  </tbody>\n",
       "</table>\n",
       "</div>"
      ],
      "text/plain": [
       "   mukey                                             muname  \\\n",
       "0  74975         Andic Cryochrepts, 60 to 90 percent slopes   \n",
       "1  74976     Barnhardt gravelly loam, 0 to 5 percent slopes   \n",
       "2  74977           Lynden sandy loam, 3 to 8 percent slopes   \n",
       "3  74978   Lynden-Urban land complex, 0 to 3 percent slopes   \n",
       "4  74979         Lynnwood sandy loam, 0 to 5 percent slopes   \n",
       "5  74980        Lynnwood sandy loam, 5 to 20 percent slopes   \n",
       "6  74981    Montborne gravelly loam, 5 to 30 percent slopes   \n",
       "7  74982   Montborne gravelly loam, 30 to 60 percent slopes   \n",
       "8  74983  Montborne-Rinker complex, 30 to 60 percent slopes   \n",
       "9  74984  Mt. Vernon fine sandy loam, 0 to 2 percent slopes   \n",
       "\n",
       "                     drclassdcd forpehrtdcp                 si_label  \\\n",
       "0                  Well drained      Severe  western hemlock - 89 ft   \n",
       "1                  Well drained      Slight     Douglas-fir - 106 ft   \n",
       "2                  Well drained    Moderate     Douglas-fir - 112 ft   \n",
       "3                  Well drained      Slight     Douglas-fir - 112 ft   \n",
       "4  Somewhat excessively drained    Moderate     Douglas-fir - 121 ft   \n",
       "5  Somewhat excessively drained      Severe     Douglas-fir - 121 ft   \n",
       "6       Moderately well drained      Severe     Douglas-fir - 114 ft   \n",
       "7       Moderately well drained      Severe     Douglas-fir - 114 ft   \n",
       "8       Moderately well drained      Severe     Douglas-fir - 107 ft   \n",
       "9       Moderately well drained      Slight     Douglas-fir - 130 ft   \n",
       "\n",
       "   avg_rs_l  avg_rs_h  \n",
       "0      0.00      0.00  \n",
       "1      1.53      3.06  \n",
       "2      0.90      1.53  \n",
       "3      0.90      1.53  \n",
       "4      0.60      1.02  \n",
       "5      0.30      0.51  \n",
       "6     43.35     86.70  \n",
       "7     43.35     86.70  \n",
       "8     43.35     86.70  \n",
       "9      0.00      0.00  "
      ]
     },
     "execution_count": 20,
     "metadata": {},
     "output_type": "execute_result"
    }
   ],
   "source": [
    "join = muaggatt_sub.merge(si_key, on='mukey', how='left')\n",
    "join = join.merge(res_comp, on='mukey', how='left')\n",
    "join['drclassdcd'].fillna(\"No Data Available\", inplace=True)\n",
    "join['si_label'].fillna('None', inplace=True)\n",
    "join.rename(columns={'l_per': 'avg_rs_l', 'h_per': 'avg_rs_h'}, inplace=True)\n",
    "join.head(10)"
   ]
  },
  {
   "cell_type": "markdown",
   "metadata": {},
   "source": [
    "## Bring in the map units shapefile and join with attributes"
   ]
  },
  {
   "cell_type": "code",
   "execution_count": 21,
   "metadata": {},
   "outputs": [
    {
     "name": "stdout",
     "output_type": "stream",
     "text": [
      "<class 'geopandas.geodataframe.GeoDataFrame'>\n",
      "RangeIndex: 549880 entries, 0 to 549879\n",
      "Data columns (total 7 columns):\n",
      " #   Column        Non-Null Count   Dtype   \n",
      "---  ------        --------------   -----   \n",
      " 0   AREASYMBOL    549880 non-null  object  \n",
      " 1   SPATIALVER    549880 non-null  float64 \n",
      " 2   MUSYM         549880 non-null  object  \n",
      " 3   MUKEY         549880 non-null  object  \n",
      " 4   Shape_Length  549880 non-null  float64 \n",
      " 5   Shape_Area    549880 non-null  float64 \n",
      " 6   geometry      549880 non-null  geometry\n",
      "dtypes: float64(3), geometry(1), object(3)\n",
      "memory usage: 29.4+ MB\n"
     ]
    }
   ],
   "source": [
    "washington = gpd.read_file(SOILS, driver=\"FileGDB\", layer= 'MUPOlYGON')\n",
    "washington = washington.to_crs(3857)\n",
    "washington.info()"
   ]
  },
  {
   "cell_type": "code",
   "execution_count": 22,
   "metadata": {},
   "outputs": [
    {
     "name": "stdout",
     "output_type": "stream",
     "text": [
      "<class 'geopandas.geodataframe.GeoDataFrame'>\n",
      "RangeIndex: 549880 entries, 0 to 549879\n",
      "Data columns (total 14 columns):\n",
      " #   Column        Non-Null Count   Dtype   \n",
      "---  ------        --------------   -----   \n",
      " 0   id            549880 non-null  int64   \n",
      " 1   AREASYMBOL    549880 non-null  object  \n",
      " 2   SPATIALVER    549880 non-null  float64 \n",
      " 3   MUSYM         549880 non-null  object  \n",
      " 4   MUKEY         549880 non-null  object  \n",
      " 5   Shape_Length  549880 non-null  float64 \n",
      " 6   Shape_Area    549880 non-null  float64 \n",
      " 7   geometry      549880 non-null  geometry\n",
      " 8   muname        549880 non-null  object  \n",
      " 9   drclassdcd    549880 non-null  object  \n",
      " 10  forpehrtdcp   549880 non-null  object  \n",
      " 11  si_label      549880 non-null  object  \n",
      " 12  avg_rs_l      549880 non-null  float64 \n",
      " 13  avg_rs_h      549880 non-null  float64 \n",
      "dtypes: float64(5), geometry(1), int64(1), object(7)\n",
      "memory usage: 58.7+ MB\n"
     ]
    }
   ],
   "source": [
    "export = washington.merge(join, left_on=\"MUKEY\", right_on='mukey', how='left')\n",
    "export.drop('mukey', axis=1, inplace = True)\n",
    "export.insert(0, 'id', range(0, 0 + len(export)))\n",
    "export.info()"
   ]
  },
  {
   "cell_type": "code",
   "execution_count": 23,
   "metadata": {},
   "outputs": [
    {
     "name": "stderr",
     "output_type": "stream",
     "text": [
      "C:\\Users\\sloreno\\AppData\\Local\\Temp\\ipykernel_38432\\90305232.py:1: UserWarning: Column names longer than 10 characters will be truncated when saved to ESRI Shapefile.\n",
      "  export.to_file('C:/Users/sloreno/LandMapper/data/Soil_Attributes/WA_soils.shp', driver='ESRI Shapefile')\n"
     ]
    }
   ],
   "source": [
    "export.to_file('C:/Users/sloreno/LandMapper/data/Soil_Attributes/WA_soils.shp', driver='ESRI Shapefile')"
   ]
  },
  {
   "cell_type": "code",
   "execution_count": null,
   "metadata": {},
   "outputs": [],
   "source": []
  }
 ],
 "metadata": {
  "kernelspec": {
   "display_name": "geo",
   "language": "python",
   "name": "python3"
  },
  "language_info": {
   "codemirror_mode": {
    "name": "ipython",
    "version": 3
   },
   "file_extension": ".py",
   "mimetype": "text/x-python",
   "name": "python",
   "nbconvert_exporter": "python",
   "pygments_lexer": "ipython3",
   "version": "3.11.0"
  },
  "orig_nbformat": 4
 },
 "nbformat": 4,
 "nbformat_minor": 2
}
